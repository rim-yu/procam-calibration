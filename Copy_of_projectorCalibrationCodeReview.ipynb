{
  "nbformat": 4,
  "nbformat_minor": 0,
  "metadata": {
    "colab": {
      "name": "Copy of projectorCalibrationCodeReview.ipynb",
      "provenance": [],
      "collapsed_sections": [],
      "include_colab_link": true
    },
    "kernelspec": {
      "name": "python3",
      "display_name": "Python 3"
    },
    "accelerator": "GPU"
  },
  "cells": [
    {
      "cell_type": "markdown",
      "metadata": {
        "id": "view-in-github",
        "colab_type": "text"
      },
      "source": [
        "<a href=\"https://colab.research.google.com/github/rim-yu/procam-calibration/blob/master/Copy_of_projectorCalibrationCodeReview.ipynb\" target=\"_parent\"><img src=\"https://colab.research.google.com/assets/colab-badge.svg\" alt=\"Open In Colab\"/></a>"
      ]
    },
    {
      "cell_type": "code",
      "metadata": {
        "id": "2ZShhOqwqbbU",
        "colab_type": "code",
        "outputId": "d3a30772-5210-4633-9817-22d766d70ca0",
        "colab": {
          "base_uri": "https://localhost:8080/",
          "height": 126
        }
      },
      "source": [
        "# You need to mount your google drive  to the /content/gdrive folder of your virtual computer\n",
        "# located in the colab server\n",
        "\n",
        "from google.colab import drive\n",
        "drive.mount(\"/content/gdrive\")\n",
        "#drive.mount(\"/content/gdrive\", force_remount=True)"
      ],
      "execution_count": 1,
      "outputs": [
        {
          "output_type": "stream",
          "text": [
            "Go to this URL in a browser: https://accounts.google.com/o/oauth2/auth?client_id=947318989803-6bn6qk8qdgf4n4g3pfee6491hc0brc4i.apps.googleusercontent.com&redirect_uri=urn%3aietf%3awg%3aoauth%3a2.0%3aoob&response_type=code&scope=email%20https%3a%2f%2fwww.googleapis.com%2fauth%2fdocs.test%20https%3a%2f%2fwww.googleapis.com%2fauth%2fdrive%20https%3a%2f%2fwww.googleapis.com%2fauth%2fdrive.photos.readonly%20https%3a%2f%2fwww.googleapis.com%2fauth%2fpeopleapi.readonly\n",
            "\n",
            "Enter your authorization code:\n",
            "··········\n",
            "Mounted at /content/gdrive\n"
          ],
          "name": "stdout"
        }
      ]
    },
    {
      "cell_type": "code",
      "metadata": {
        "id": "w-Pfqw2UqX6u",
        "colab_type": "code",
        "outputId": "abee925b-98b2-479a-9049-38944677cf19",
        "colab": {
          "base_uri": "https://localhost:8080/",
          "height": 52
        }
      },
      "source": [
        "%reload_ext autoreload\n",
        "%autoreload 2\n",
        "%matplotlib inline\n",
        "\n",
        "%xmode Verbose\n",
        "%pdb on\n"
      ],
      "execution_count": 2,
      "outputs": [
        {
          "output_type": "stream",
          "text": [
            "Exception reporting mode: Verbose\n",
            "Automatic pdb calling has been turned ON\n"
          ],
          "name": "stdout"
        }
      ]
    },
    {
      "cell_type": "code",
      "metadata": {
        "id": "pHhBUfdKe2nI",
        "colab_type": "code",
        "colab": {}
      },
      "source": [
        "import os\n",
        "import os.path\n",
        "from pathlib import Path\n",
        "#cf: https://treyhunner.com/2018/12/why-you-should-be-using-pathlib/\n",
        "import glob\n",
        "import argparse\n",
        "import cv2\n",
        "import numpy as np\n",
        "import json\n",
        "\n",
        "\n",
        "\n",
        "def main(proj_height, proj_width, chess_rows, chess_cols, chess_block_size,\n",
        "    graycode_step, black_thr, white_thr,  camera):\n",
        "  #  parser = argparse.ArgumentParser(\n",
        "  #      description='Calibrate pro-cam system using chessboard and structured light projection\\n'\n",
        "  #      '  Place captured images as \\n'\n",
        "  #      '    ./ --- capture_1/ --- graycode_00.png\\n'\n",
        "  #      '        |              |- graycode_01.png\\n'\n",
        "  #      '        |              |        .\\n'\n",
        "  #      '        |              |        .\\n'\n",
        "  #      '        |              |- graycode_??.png\\n'\n",
        "  #      '        |- capture_2/ --- graycode_00.png\\n'\n",
        "  #      '        |              |- graycode_01.png\\n'\n",
        "  #      '        |      .       |        .\\n'\n",
        "  #      '        |      .       |        .\\n',\n",
        "  #      formatter_class=argparse.RawTextHelpFormatter\n",
        "  #  )\n",
        "\n",
        "  #  parser.add_argument('proj_height', type=int, help='projector pixel height')\n",
        "  #  parser.add_argument('proj_width', type=int, help='projector pixel width')\n",
        "  #  parser.add_argument('chess_vert', type=int,\n",
        "  #                      help='number of cross points of chessboard in vertical direction')\n",
        "  #  parser.add_argument('chess_hori', type=int,\n",
        "  #                      help='number of cross points of chessboard in horizontal direction')\n",
        "  #  parser.add_argument('chess_block_size', type=float,\n",
        "  #                      help='size of blocks of chessboard (mm or cm or m)')\n",
        "  #  parser.add_argument('graycode_step', type=int,\n",
        "  #                      default=1, help='step size of graycode')\n",
        "  #  parser.add_argument('-black_thr', type=int, default=40,\n",
        "  #                      help='threashold to determine whether a camera pixel captures projected area or not (default : 40)')\n",
        "  #  parser.add_argument('-white_thr', type=int, default=5,\n",
        "  #                      help='threashold to specify robustness of graycode decoding (default : 5)')\n",
        "  #  parser.add_argument('-camera', type=str, default=str(),help='camera internal parameter json file')\n",
        "\n",
        "  #  args = parser.parse_args()\n",
        "\n",
        "    proj_shape = (proj_height, proj_width)\n",
        "    chess_shape = (chess_rows, chess_cols)\n",
        "    chess_block_size = chess_block_size\n",
        "    gc_step = graycode_step\n",
        "    black_thr = black_thr\n",
        "    white_thr = white_thr\n",
        "\n",
        "    camera_param_file = camera\n",
        "\n",
        "    dirnames = sorted(glob.glob('./capture_*'))\n",
        "    if len(dirnames) == 0:\n",
        "        print('Directories \\'./capture_*\\' were not found')\n",
        "        return\n",
        "\n",
        "    print('Searching input files ...')\n",
        "    used_dirnames = []\n",
        "    gc_fname_lists = []\n",
        "    for dname in dirnames:\n",
        "        gc_fnames = sorted(glob.glob(dname + '/graycode_*'))\n",
        "        if len(gc_fnames) == 0:\n",
        "            continue\n",
        "        used_dirnames.append(dname)\n",
        "        gc_fname_lists.append(gc_fnames)\n",
        "        print(' \\'' + dname + '\\' was found')\n",
        "\n",
        "    camP = None\n",
        "    cam_dist = None\n",
        "    path, ext = os.path.splitext(camera_param_file)\n",
        "    if(ext == \".json\"):\n",
        "        camP,cam_dist = loadCameraParam(camera_param_file)\n",
        "        print('load camera parameters')\n",
        "        print(camP)\n",
        "        print(cam_dist)\n",
        "\n",
        "    calibrate(used_dirnames, gc_fname_lists,\n",
        "              proj_shape, chess_shape, chess_block_size, gc_step, black_thr, white_thr,\n",
        "               camP, cam_dist)\n",
        "\n",
        "\n",
        "def printNumpyWithIndent(tar, indentchar):\n",
        "    print(indentchar + str(tar).replace('\\n', '\\n' + indentchar))\n",
        "\n",
        "def loadCameraParam(json_file):\n",
        "    with open(json_file, 'r') as f:\n",
        "        param_data = json.load(f)\n",
        "        P = param_data['camera']['P']\n",
        "        d = param_data['camera']['distortion']\n",
        "        return np.array(P).reshape([3,3]), np.array(d)\n",
        "\n",
        "def calibrate(dirnames, gc_fname_lists, proj_shape, chess_shape, chess_block_size, gc_step, black_thr, white_thr, camP, camD):\n",
        "    objps = np.zeros((chess_shape[0]*chess_shape[1], 3), np.float32)\n",
        "    objps[:, :2] = chess_block_size * \\\n",
        "        np.mgrid[0:chess_shape[0], 0:chess_shape[1]].T.reshape(-1, 2)\n",
        "\n",
        "    print('Calibrating ...')\n",
        "    gc_height = int((proj_shape[0]-1)/gc_step)+1\n",
        "    gc_width = int((proj_shape[1]-1)/gc_step)+1\n",
        "    graycode = cv2.structured_light_GrayCodePattern.create(\n",
        "        gc_width, gc_height)\n",
        "    graycode.setBlackThreshold(black_thr)\n",
        "    graycode.setWhiteThreshold(white_thr)\n",
        "\n",
        "    cam_shape = cv2.imread(gc_fname_lists[0][0], cv2.IMREAD_GRAYSCALE).shape\n",
        "    patch_size_half = int(np.ceil(cam_shape[1] / 180))\n",
        "    print('  patch size :', patch_size_half * 2 + 1)\n",
        "\n",
        "    cam_corners_list = []\n",
        "    cam_objps_list = []\n",
        "    cam_corners_list2 = []\n",
        "    proj_objps_list = []\n",
        "    proj_corners_list = []\n",
        "    for dname, gc_filenames in zip(dirnames, gc_fname_lists):\n",
        "        print('  checking \\'' + dname + '\\'')\n",
        "        if len(gc_filenames) != graycode.getNumberOfPatternImages() + 2:\n",
        "            print('Error : invalid number of images in \\'' + dname + '\\'')\n",
        "            return None\n",
        "\n",
        "        imgs = []\n",
        "        for fname in gc_filenames:\n",
        "            img = cv2.imread(fname, cv2.IMREAD_GRAYSCALE)\n",
        "            if cam_shape != img.shape:\n",
        "                print('Error : image size of \\'' + fname + '\\' is mismatch')\n",
        "                return None\n",
        "            imgs.append(img)\n",
        "        black_img = imgs.pop()\n",
        "        white_img = imgs.pop()\n",
        "\n",
        "        res, cam_corners = cv2.findChessboardCorners(white_img, chess_shape)\n",
        "        if not res:\n",
        "            print('Error : chessboard was not found in \\'' +\n",
        "                  gc_filenames[-2] + '\\'')\n",
        "            return None\n",
        "        cam_objps_list.append(objps)\n",
        "        cam_corners_list.append(cam_corners)\n",
        "\n",
        "        proj_objps = []\n",
        "        proj_corners = []\n",
        "        cam_corners2 = []\n",
        "        # viz_proj_points = np.zeros(proj_shape, np.uint8)\n",
        "        for corner, objp in zip(cam_corners, objps):\n",
        "            c_x = int(round(corner[0][0]))\n",
        "            c_y = int(round(corner[0][1]))\n",
        "            src_points = []\n",
        "            dst_points = []\n",
        "            for dx in range(-patch_size_half, patch_size_half + 1):\n",
        "                for dy in range(-patch_size_half, patch_size_half + 1):\n",
        "                    x = c_x + dx\n",
        "                    y = c_y + dy\n",
        "                    if int(white_img[y, x]) - int(black_img[y, x]) <= black_thr:\n",
        "                        continue\n",
        "                    err, proj_pix = graycode.getProjPixel(imgs, x, y)\n",
        "                    if not err:\n",
        "                        src_points.append((x, y))\n",
        "                        dst_points.append(gc_step*np.array(proj_pix))\n",
        "            if len(src_points) < patch_size_half**2:\n",
        "                print(\n",
        "                    '    Warning : corner', c_x, c_y,\n",
        "                    'was skiped because decoded pixels were too few (check your images and threasholds)')\n",
        "                continue\n",
        "            h_mat, inliers = cv2.findHomography(\n",
        "                np.array(src_points), np.array(dst_points))\n",
        "            point = h_mat@np.array([corner[0][0], corner[0][1], 1]).transpose()\n",
        "            point_pix = point[0:2]/point[2]\n",
        "            proj_objps.append(objp)\n",
        "            proj_corners.append([point_pix])\n",
        "            cam_corners2.append(corner)\n",
        "            # viz_proj_points[int(round(point_pix[1])),\n",
        "            #                 int(round(point_pix[0]))] = 255\n",
        "        if len(proj_corners) < 3:\n",
        "            print('Error : too few corners were found in \\'' +\n",
        "                  dname + '\\' (less than 3)')\n",
        "            return None\n",
        "        proj_objps_list.append(np.float32(proj_objps))\n",
        "        proj_corners_list.append(np.float32(proj_corners))\n",
        "        cam_corners_list2.append(np.float32(cam_corners2))\n",
        "        # cv2.imwrite('visualize_corners_projector_' +\n",
        "        #             str(cnt) + '.png', viz_proj_points)\n",
        "        # cnt += 1\n",
        "\n",
        "    print('Initial solution of camera\\'s intrinsic parameters')\n",
        "    cam_rvecs = []\n",
        "    cam_tvecs = []\n",
        "    if(camP is None):\n",
        "        ret, cam_int, cam_dist, cam_rvecs, cam_tvecs = cv2.calibrateCamera(\n",
        "            cam_objps_list, cam_corners_list, cam_shape, None, None, None, None)\n",
        "        print('  RMS :', ret)\n",
        "    else:\n",
        "        for objp, corners in zip(cam_objps_list, cam_corners_list):\n",
        "            ret, cam_rvec, cam_tvec = cv2.solvePnP(objp, corners, camP, camD) \n",
        "            cam_rvecs.append(cam_rvec)\n",
        "            cam_tvecs.append(cam_tvec)\n",
        "            print('  RMS :', ret)\n",
        "        cam_int = camP\n",
        "        cam_dist = camD\n",
        "    print('  Intrinsic parameters :')\n",
        "    printNumpyWithIndent(cam_int, '    ')\n",
        "    print('  Distortion parameters :')\n",
        "    printNumpyWithIndent(cam_dist, '    ')\n",
        "    print()\n",
        "\n",
        "    print('Initial solution of projector\\'s parameters')\n",
        "    ret, proj_int, proj_dist, proj_rvecs, proj_tvecs = cv2.calibrateCamera(\n",
        "        proj_objps_list, proj_corners_list, proj_shape, None, None, None, None)\n",
        "    print('  RMS :', ret)\n",
        "    print('  Intrinsic parameters :')\n",
        "    printNumpyWithIndent(proj_int, '    ')\n",
        "    print('  Distortion parameters :')\n",
        "    printNumpyWithIndent(proj_dist, '    ')\n",
        "    print()\n",
        "\n",
        "    print('=== Result ===')\n",
        "    ret, cam_int, cam_dist, proj_int, proj_dist, cam_proj_rmat, cam_proj_tvec, E, F = cv2.stereoCalibrate(\n",
        "        proj_objps_list, cam_corners_list2, proj_corners_list, cam_int, cam_dist, proj_int, proj_dist, None)\n",
        "    print('  RMS :', ret)\n",
        "    print('  Camera intrinsic parameters :')\n",
        "    printNumpyWithIndent(cam_int, '    ')\n",
        "    print('  Camera distortion parameters :')\n",
        "    printNumpyWithIndent(cam_dist, '    ')\n",
        "    print('  Projector intrinsic parameters :')\n",
        "    printNumpyWithIndent(proj_int, '    ')\n",
        "    print('  Projector distortion parameters :')\n",
        "    printNumpyWithIndent(proj_dist, '    ')\n",
        "    print('  Rotation matrix / translation vector from camera to projector')\n",
        "    print('  (they translate points from camera coord to projector coord) :')\n",
        "    printNumpyWithIndent(cam_proj_rmat, '    ')\n",
        "    printNumpyWithIndent(cam_proj_tvec, '    ')\n",
        "    print()\n",
        "\n",
        "    fs = cv2.FileStorage('calibration_result.xml', cv2.FILE_STORAGE_WRITE)\n",
        "    fs.write('img_shape', cam_shape)\n",
        "    fs.write('rms', ret)\n",
        "    fs.write('cam_int', cam_int)\n",
        "    fs.write('cam_dist', cam_dist)\n",
        "    fs.write('proj_int', proj_int)\n",
        "    fs.write('proj_dist', proj_dist)\n",
        "    fs.write('roration', cam_proj_rmat)\n",
        "    fs.write('translation', cam_proj_tvec)\n",
        "    fs.release()\n",
        "\n",
        "\n",
        "#if __name__ == '__main__':\n",
        "#    main()\n"
      ],
      "execution_count": 0,
      "outputs": []
    },
    {
      "cell_type": "code",
      "metadata": {
        "id": "_4HlpWowveYH",
        "colab_type": "code",
        "outputId": "92446e59-e5e2-4020-89f3-eb37ab88dc53",
        "colab": {
          "base_uri": "https://localhost:8080/",
          "height": 35
        }
      },
      "source": [
        "path = Path('/content/gdrive/My Drive/danbi-project/sample_data')\n",
        "#%cd /content/gdrive/My\\ Drive/procam-calibration/sample_data\n",
        "!pwd # show me the current working directory"
      ],
      "execution_count": 8,
      "outputs": [
        {
          "output_type": "stream",
          "text": [
            "/content\n"
          ],
          "name": "stdout"
        }
      ]
    },
    {
      "cell_type": "code",
      "metadata": {
        "id": "SBX2NIAfEigA",
        "colab_type": "code",
        "colab": {
          "base_uri": "https://localhost:8080/",
          "height": 35
        },
        "outputId": "541eacd7-823d-452c-abb0-3b501324b67b"
      },
      "source": [
        "cd /content/gdrive/\"My Drive\"/danbi-project/sample_data"
      ],
      "execution_count": 16,
      "outputs": [
        {
          "output_type": "stream",
          "text": [
            "/content/gdrive/My Drive/danbi-project/sample_data\n"
          ],
          "name": "stdout"
        }
      ]
    },
    {
      "cell_type": "code",
      "metadata": {
        "id": "XncaqoogEnWf",
        "colab_type": "code",
        "colab": {
          "base_uri": "https://localhost:8080/",
          "height": 35
        },
        "outputId": "85ce7bff-6c39-4fb9-9f08-1ae782fbbd53"
      },
      "source": [
        "pwd"
      ],
      "execution_count": 17,
      "outputs": [
        {
          "output_type": "execute_result",
          "data": {
            "text/plain": [
              "'/content/gdrive/My Drive/danbi-project/sample_data'"
            ]
          },
          "metadata": {
            "tags": []
          },
          "execution_count": 17
        }
      ]
    },
    {
      "cell_type": "code",
      "metadata": {
        "id": "n3sMs7VEyG5l",
        "colab_type": "code",
        "outputId": "ffbdfe85-cf55-47c4-879f-ad43ca10d8ad",
        "colab": {
          "base_uri": "https://localhost:8080/",
          "height": 1000
        }
      },
      "source": [
        "proj_height = 768\n",
        "proj_width = 1024 \n",
        "chess_rows = 7\n",
        "chess_cols = 9 \n",
        "chess_block_size = 75\n",
        "graycode_step = 1\n",
        "black_thr = 40\n",
        "white_thr = 5\n",
        "camera =  \"\"\n",
        "main(proj_height, proj_width, chess_rows, chess_cols, chess_block_size,\n",
        "    graycode_step, black_thr, white_thr,  camera)"
      ],
      "execution_count": 18,
      "outputs": [
        {
          "output_type": "stream",
          "text": [
            "Searching input files ...\n",
            " './capture_0' was found\n",
            " './capture_1' was found\n",
            " './capture_2' was found\n",
            " './capture_3' was found\n",
            " './capture_4' was found\n",
            "Calibrating ...\n",
            "  patch size : 17\n",
            "  checking './capture_0'\n",
            "  checking './capture_1'\n",
            "    Warning : corner 794 721 was skiped because decoded pixels were too few (check your images and threasholds)\n",
            "    Warning : corner 741 718 was skiped because decoded pixels were too few (check your images and threasholds)\n",
            "  checking './capture_2'\n",
            "  checking './capture_3'\n",
            "  checking './capture_4'\n",
            "Initial solution of camera's intrinsic parameters\n",
            "  RMS : 0.31625801516876384\n",
            "  Intrinsic parameters :\n",
            "    [[3.45239386e+03 0.00000000e+00 5.87174007e+02]\n",
            "     [0.00000000e+00 3.44992503e+03 5.21446143e+02]\n",
            "     [0.00000000e+00 0.00000000e+00 1.00000000e+00]]\n",
            "  Distortion parameters :\n",
            "    [[-2.22276694e-01 -8.65038521e-01 -7.27788040e-04 -1.68834382e-03\n",
            "       3.09864550e+00]]\n",
            "\n",
            "Initial solution of projector's parameters\n",
            "  RMS : 0.23940412266190703\n",
            "  Intrinsic parameters :\n",
            "    [[1.94749457e+03 0.00000000e+00 4.49706844e+02]\n",
            "     [0.00000000e+00 1.93428098e+03 7.19574420e+02]\n",
            "     [0.00000000e+00 0.00000000e+00 1.00000000e+00]]\n",
            "  Distortion parameters :\n",
            "    [[-9.33422188e-02  1.18986808e+00 -2.37757479e-03 -9.14672821e-03\n",
            "      -8.10262405e+00]]\n",
            "\n",
            "=== Result ===\n",
            "  RMS : 0.4256716302764149\n",
            "  Camera intrinsic parameters :\n",
            "    [[3.45239386e+03 0.00000000e+00 5.87174007e+02]\n",
            "     [0.00000000e+00 3.44992503e+03 5.21446143e+02]\n",
            "     [0.00000000e+00 0.00000000e+00 1.00000000e+00]]\n",
            "  Camera distortion parameters :\n",
            "    [[-2.22276694e-01 -8.65038521e-01 -7.27788040e-04 -1.68834382e-03\n",
            "       3.09864550e+00]]\n",
            "  Projector intrinsic parameters :\n",
            "    [[1.94749457e+03 0.00000000e+00 4.49706844e+02]\n",
            "     [0.00000000e+00 1.93428098e+03 7.19574420e+02]\n",
            "     [0.00000000e+00 0.00000000e+00 1.00000000e+00]]\n",
            "  Projector distortion parameters :\n",
            "    [[-9.33422188e-02  1.18986808e+00 -2.37757479e-03 -9.14672821e-03\n",
            "      -8.10262405e+00]]\n",
            "  Rotation matrix / translation vector from camera to projector\n",
            "  (they translate points from camera coord to projector coord) :\n",
            "    [[ 0.99905437  0.01461976 -0.04094663]\n",
            "     [-0.01209253  0.99804603  0.06130162]\n",
            "     [ 0.04176284 -0.0607485   0.99727904]]\n",
            "    [[  89.63667766]\n",
            "     [-638.32482902]\n",
            "     [-141.37851807]]\n",
            "\n"
          ],
          "name": "stdout"
        }
      ]
    },
    {
      "cell_type": "code",
      "metadata": {
        "id": "f0HJmKm_NbJq",
        "colab_type": "code",
        "colab": {
          "base_uri": "https://localhost:8080/",
          "height": 35
        },
        "outputId": "96e69d3d-dde5-4000-d5e2-4b99312c905e"
      },
      "source": [
        "path = Path('/content/gdrive/My Drive/danbi-project/real_data_200430')\n",
        "#%cd /content/gdrive/My\\ Drive/procam-calibration/sample_data\n",
        "!pwd # show me the current working directory"
      ],
      "execution_count": 4,
      "outputs": [
        {
          "output_type": "stream",
          "text": [
            "/content\n"
          ],
          "name": "stdout"
        }
      ]
    },
    {
      "cell_type": "code",
      "metadata": {
        "id": "N9n4uf-UNfZo",
        "colab_type": "code",
        "colab": {
          "base_uri": "https://localhost:8080/",
          "height": 35
        },
        "outputId": "37ad6668-4bd1-41f0-8724-391b2b00002d"
      },
      "source": [
        "cd /content/gdrive/\"My Drive\"/danbi-project/real_data_200430"
      ],
      "execution_count": 5,
      "outputs": [
        {
          "output_type": "stream",
          "text": [
            "/content/gdrive/My Drive/danbi-project/real_data_200430\n"
          ],
          "name": "stdout"
        }
      ]
    },
    {
      "cell_type": "code",
      "metadata": {
        "id": "E3k0_wfNNB7r",
        "colab_type": "code",
        "colab": {
          "base_uri": "https://localhost:8080/",
          "height": 1000
        },
        "outputId": "9757daad-1ce3-43dc-d3c5-591612bbed2f"
      },
      "source": [
        "proj_height = 2160\n",
        "proj_width = 3840\n",
        "chess_rows = 10\n",
        "chess_cols = 7\n",
        "chess_block_size = 68\n",
        "graycode_step = 1\n",
        "black_thr = 40\n",
        "white_thr = 5\n",
        "camera =  \"\"\n",
        "main(proj_height, proj_width, chess_rows, chess_cols, chess_block_size,\n",
        "    graycode_step, black_thr, white_thr,  camera)"
      ],
      "execution_count": 6,
      "outputs": [
        {
          "output_type": "stream",
          "text": [
            "Searching input files ...\n",
            " './capture_0' was found\n",
            " './capture_1' was found\n",
            " './capture_2' was found\n",
            " './capture_3' was found\n",
            " './capture_4' was found\n",
            "Calibrating ...\n",
            "  patch size : 29\n",
            "  checking './capture_0'\n",
            "    Warning : corner 911 519 was skiped because decoded pixels were too few (check your images and threasholds)\n",
            "    Warning : corner 915 470 was skiped because decoded pixels were too few (check your images and threasholds)\n",
            "    Warning : corner 851 472 was skiped because decoded pixels were too few (check your images and threasholds)\n",
            "  checking './capture_1'\n",
            "    Warning : corner 1437 798 was skiped because decoded pixels were too few (check your images and threasholds)\n",
            "    Warning : corner 789 692 was skiped because decoded pixels were too few (check your images and threasholds)\n",
            "    Warning : corner 1441 737 was skiped because decoded pixels were too few (check your images and threasholds)\n",
            "    Warning : corner 1372 724 was skiped because decoded pixels were too few (check your images and threasholds)\n",
            "    Warning : corner 1231 700 was skiped because decoded pixels were too few (check your images and threasholds)\n",
            "    Warning : corner 1160 688 was skiped because decoded pixels were too few (check your images and threasholds)\n",
            "    Warning : corner 1089 676 was skiped because decoded pixels were too few (check your images and threasholds)\n",
            "    Warning : corner 1018 665 was skiped because decoded pixels were too few (check your images and threasholds)\n",
            "    Warning : corner 946 653 was skiped because decoded pixels were too few (check your images and threasholds)\n",
            "    Warning : corner 875 643 was skiped because decoded pixels were too few (check your images and threasholds)\n",
            "    Warning : corner 805 632 was skiped because decoded pixels were too few (check your images and threasholds)\n",
            "    Warning : corner 1445 678 was skiped because decoded pixels were too few (check your images and threasholds)\n",
            "    Warning : corner 1377 666 was skiped because decoded pixels were too few (check your images and threasholds)\n",
            "    Warning : corner 1308 653 was skiped because decoded pixels were too few (check your images and threasholds)\n",
            "    Warning : corner 1239 641 was skiped because decoded pixels were too few (check your images and threasholds)\n",
            "    Warning : corner 1169 630 was skiped because decoded pixels were too few (check your images and threasholds)\n",
            "    Warning : corner 1099 618 was skiped because decoded pixels were too few (check your images and threasholds)\n",
            "    Warning : corner 1029 607 was skiped because decoded pixels were too few (check your images and threasholds)\n",
            "    Warning : corner 959 596 was skiped because decoded pixels were too few (check your images and threasholds)\n",
            "    Warning : corner 890 585 was skiped because decoded pixels were too few (check your images and threasholds)\n",
            "    Warning : corner 820 575 was skiped because decoded pixels were too few (check your images and threasholds)\n",
            "    Warning : corner 1449 622 was skiped because decoded pixels were too few (check your images and threasholds)\n",
            "    Warning : corner 1382 610 was skiped because decoded pixels were too few (check your images and threasholds)\n",
            "    Warning : corner 1314 598 was skiped because decoded pixels were too few (check your images and threasholds)\n",
            "    Warning : corner 1246 586 was skiped because decoded pixels were too few (check your images and threasholds)\n",
            "    Warning : corner 1178 574 was skiped because decoded pixels were too few (check your images and threasholds)\n",
            "    Warning : corner 1109 563 was skiped because decoded pixels were too few (check your images and threasholds)\n",
            "    Warning : corner 1041 552 was skiped because decoded pixels were too few (check your images and threasholds)\n",
            "    Warning : corner 972 541 was skiped because decoded pixels were too few (check your images and threasholds)\n",
            "    Warning : corner 903 530 was skiped because decoded pixels were too few (check your images and threasholds)\n",
            "    Warning : corner 835 520 was skiped because decoded pixels were too few (check your images and threasholds)\n",
            "    Warning : corner 1452 570 was skiped because decoded pixels were too few (check your images and threasholds)\n",
            "    Warning : corner 1386 557 was skiped because decoded pixels were too few (check your images and threasholds)\n",
            "    Warning : corner 1320 545 was skiped because decoded pixels were too few (check your images and threasholds)\n",
            "    Warning : corner 1253 534 was skiped because decoded pixels were too few (check your images and threasholds)\n",
            "    Warning : corner 1186 522 was skiped because decoded pixels were too few (check your images and threasholds)\n",
            "    Warning : corner 1119 511 was skiped because decoded pixels were too few (check your images and threasholds)\n",
            "    Warning : corner 1052 500 was skiped because decoded pixels were too few (check your images and threasholds)\n",
            "    Warning : corner 984 489 was skiped because decoded pixels were too few (check your images and threasholds)\n",
            "    Warning : corner 917 479 was skiped because decoded pixels were too few (check your images and threasholds)\n",
            "    Warning : corner 850 469 was skiped because decoded pixels were too few (check your images and threasholds)\n",
            "    Warning : corner 1454 520 was skiped because decoded pixels were too few (check your images and threasholds)\n",
            "    Warning : corner 1390 508 was skiped because decoded pixels were too few (check your images and threasholds)\n",
            "    Warning : corner 1325 496 was skiped because decoded pixels were too few (check your images and threasholds)\n",
            "    Warning : corner 1260 484 was skiped because decoded pixels were too few (check your images and threasholds)\n",
            "    Warning : corner 1194 473 was skiped because decoded pixels were too few (check your images and threasholds)\n",
            "    Warning : corner 1128 462 was skiped because decoded pixels were too few (check your images and threasholds)\n",
            "    Warning : corner 1062 451 was skiped because decoded pixels were too few (check your images and threasholds)\n",
            "    Warning : corner 996 440 was skiped because decoded pixels were too few (check your images and threasholds)\n",
            "    Warning : corner 930 430 was skiped because decoded pixels were too few (check your images and threasholds)\n",
            "    Warning : corner 864 420 was skiped because decoded pixels were too few (check your images and threasholds)\n",
            "  checking './capture_2'\n",
            "    Warning : corner 836 537 was skiped because decoded pixels were too few (check your images and threasholds)\n",
            "    Warning : corner 914 497 was skiped because decoded pixels were too few (check your images and threasholds)\n",
            "    Warning : corner 848 493 was skiped because decoded pixels were too few (check your images and threasholds)\n",
            "  checking './capture_3'\n",
            "    Warning : corner 1398 459 was skiped because decoded pixels were too few (check your images and threasholds)\n",
            "    Warning : corner 1390 507 was skiped because decoded pixels were too few (check your images and threasholds)\n",
            "    Warning : corner 1382 558 was skiped because decoded pixels were too few (check your images and threasholds)\n",
            "    Warning : corner 1334 448 was skiped because decoded pixels were too few (check your images and threasholds)\n",
            "    Warning : corner 1325 496 was skiped because decoded pixels were too few (check your images and threasholds)\n",
            "    Warning : corner 1271 438 was skiped because decoded pixels were too few (check your images and threasholds)\n",
            "    Warning : corner 1261 485 was skiped because decoded pixels were too few (check your images and threasholds)\n",
            "    Warning : corner 1251 535 was skiped because decoded pixels were too few (check your images and threasholds)\n",
            "    Warning : corner 1207 428 was skiped because decoded pixels were too few (check your images and threasholds)\n",
            "    Warning : corner 1196 476 was skiped because decoded pixels were too few (check your images and threasholds)\n",
            "    Warning : corner 1185 525 was skiped because decoded pixels were too few (check your images and threasholds)\n",
            "    Warning : corner 1144 420 was skiped because decoded pixels were too few (check your images and threasholds)\n",
            "    Warning : corner 1132 467 was skiped because decoded pixels were too few (check your images and threasholds)\n",
            "    Warning : corner 1120 516 was skiped because decoded pixels were too few (check your images and threasholds)\n",
            "    Warning : corner 1081 412 was skiped because decoded pixels were too few (check your images and threasholds)\n",
            "    Warning : corner 1069 460 was skiped because decoded pixels were too few (check your images and threasholds)\n",
            "    Warning : corner 1055 508 was skiped because decoded pixels were too few (check your images and threasholds)\n",
            "    Warning : corner 1020 406 was skiped because decoded pixels were too few (check your images and threasholds)\n",
            "    Warning : corner 1006 453 was skiped because decoded pixels were too few (check your images and threasholds)\n",
            "    Warning : corner 991 502 was skiped because decoded pixels were too few (check your images and threasholds)\n",
            "    Warning : corner 976 552 was skiped because decoded pixels were too few (check your images and threasholds)\n",
            "  checking './capture_4'\n",
            "    Warning : corner 1174 422 was skiped because decoded pixels were too few (check your images and threasholds)\n",
            "    Warning : corner 1114 411 was skiped because decoded pixels were too few (check your images and threasholds)\n",
            "    Warning : corner 1092 454 was skiped because decoded pixels were too few (check your images and threasholds)\n",
            "Initial solution of camera's intrinsic parameters\n",
            "  RMS : 2.6490043937204795\n",
            "  Intrinsic parameters :\n",
            "    [[5.47491375e+03 0.00000000e+00 1.03587619e+03]\n",
            "     [0.00000000e+00 5.18919827e+03 1.29519933e+03]\n",
            "     [0.00000000e+00 0.00000000e+00 1.00000000e+00]]\n",
            "  Distortion parameters :\n",
            "    [[-3.87340408e+00 -3.65479243e+01 -6.75359389e-02  3.43042595e-02\n",
            "       8.96799246e+02]]\n",
            "\n",
            "Initial solution of projector's parameters\n",
            "  RMS : 11.64281947189317\n",
            "  Intrinsic parameters :\n",
            "    [[2.47694251e+03 0.00000000e+00 1.44442352e+03]\n",
            "     [0.00000000e+00 2.52382641e+03 2.40445584e+03]\n",
            "     [0.00000000e+00 0.00000000e+00 1.00000000e+00]]\n",
            "  Distortion parameters :\n",
            "    [[ 0.14676236 -0.23874462  0.03234158 -0.00642707  0.17503209]]\n",
            "\n",
            "=== Result ===\n",
            "  RMS : 9.45807563594593\n",
            "  Camera intrinsic parameters :\n",
            "    [[5.47491375e+03 0.00000000e+00 1.03587619e+03]\n",
            "     [0.00000000e+00 5.18919827e+03 1.29519933e+03]\n",
            "     [0.00000000e+00 0.00000000e+00 1.00000000e+00]]\n",
            "  Camera distortion parameters :\n",
            "    [[-3.87340408e+00 -3.65479243e+01 -6.75359389e-02  3.43042595e-02\n",
            "       8.96799246e+02]]\n",
            "  Projector intrinsic parameters :\n",
            "    [[2.47694251e+03 0.00000000e+00 1.44442352e+03]\n",
            "     [0.00000000e+00 2.52382641e+03 2.40445584e+03]\n",
            "     [0.00000000e+00 0.00000000e+00 1.00000000e+00]]\n",
            "  Projector distortion parameters :\n",
            "    [[ 0.14676236 -0.23874462  0.03234158 -0.00642707  0.17503209]]\n",
            "  Rotation matrix / translation vector from camera to projector\n",
            "  (they translate points from camera coord to projector coord) :\n",
            "    [[-0.99170373  0.01363937  0.12781892]\n",
            "     [ 0.01558532 -0.97426108  0.22488319]\n",
            "     [ 0.12759627  0.2250096   0.96596577]]\n",
            "    [[ -111.11508243]\n",
            "     [-2596.557443  ]\n",
            "     [-3005.34949859]]\n",
            "\n"
          ],
          "name": "stdout"
        }
      ]
    }
  ]
}
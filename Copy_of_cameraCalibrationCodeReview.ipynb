{
  "nbformat": 4,
  "nbformat_minor": 0,
  "metadata": {
    "colab": {
      "name": "Copy_of_cameraCalibrationCodeReview.ipynb",
      "provenance": [],
      "collapsed_sections": [],
      "mount_file_id": "1jrA9t5lFl5VLl0-DOLQvABQWU4LQHLEy",
      "authorship_tag": "ABX9TyNMfFS0rg3DiBQwRPSlEhLy",
      "include_colab_link": true
    },
    "kernelspec": {
      "name": "python3",
      "display_name": "Python 3"
    }
  },
  "cells": [
    {
      "cell_type": "markdown",
      "metadata": {
        "id": "view-in-github",
        "colab_type": "text"
      },
      "source": [
        "<a href=\"https://colab.research.google.com/github/rim-yu/procam-calibration/blob/master/Copy_of_cameraCalibrationCodeReview.ipynb\" target=\"_parent\"><img src=\"https://colab.research.google.com/assets/colab-badge.svg\" alt=\"Open In Colab\"/></a>"
      ]
    },
    {
      "cell_type": "code",
      "metadata": {
        "id": "jHZzrzhscHq6",
        "colab_type": "code",
        "outputId": "30ae1b54-e01b-4daa-9809-9548d790a293",
        "colab": {
          "base_uri": "https://localhost:8080/",
          "height": 36
        }
      },
      "source": [
        "cd /content/drive/\"My Drive\"/danbi-project/images"
      ],
      "execution_count": 1,
      "outputs": [
        {
          "output_type": "stream",
          "text": [
            "/content/drive/My Drive/danbi-project/images\n"
          ],
          "name": "stdout"
        }
      ]
    },
    {
      "cell_type": "code",
      "metadata": {
        "id": "5jtQV2TU1zgp",
        "colab_type": "code",
        "outputId": "c6953b0b-d00b-4ca5-f783-d5d6c6a46ea6",
        "colab": {
          "base_uri": "https://localhost:8080/",
          "height": 35
        }
      },
      "source": [
        "pwd"
      ],
      "execution_count": 0,
      "outputs": [
        {
          "output_type": "execute_result",
          "data": {
            "text/plain": [
              "'/content/drive/My Drive/danbi-project/images'"
            ]
          },
          "metadata": {
            "tags": []
          },
          "execution_count": 2
        }
      ]
    },
    {
      "cell_type": "code",
      "metadata": {
        "id": "UUCBSF-mc3Mc",
        "colab_type": "code",
        "outputId": "b6bc00d9-6deb-4355-af60-36e81ecbca94",
        "colab": {
          "base_uri": "https://localhost:8080/",
          "height": 148
        }
      },
      "source": [
        "ls"
      ],
      "execution_count": 10,
      "outputs": [
        {
          "output_type": "stream",
          "text": [
            " calibration_matrix.yaml  'image (16).JPG'  'image (22).JPG'  'image (5).JPG'\n",
            "'image (10).JPG'          'image (17).JPG'  'image (23).JPG'  'image (6).JPG'\n",
            "'image (11).JPG'          'image (18).JPG'  'image (24).JPG'  'image (7).JPG'\n",
            "'image (12).JPG'          'image (19).JPG'  'image (25).JPG'  'image (8).JPG'\n",
            "'image (13).JPG'          'image (1).JPG'   'image (2).JPG'   'image (9).JPG'\n",
            "'image (14).JPG'          'image (20).JPG'  'image (3).JPG'\n",
            "'image (15).JPG'          'image (21).JPG'  'image (4).JPG'\n"
          ],
          "name": "stdout"
        }
      ]
    },
    {
      "cell_type": "code",
      "metadata": {
        "id": "DFE7r3c9XKFO",
        "colab_type": "code",
        "colab": {}
      },
      "source": [
        "import numpy as np\n",
        "import cv2\n",
        "import glob\n",
        "import yaml\n",
        "import pathlib\n",
        "from matplotlib import pyplot as plt \n",
        "\n",
        "# termination criteria 종료 기준. \n",
        "criteria = (cv2.TERM_CRITERIA_EPS + cv2.TERM_CRITERIA_MAX_ITER, 30, 0.001)\n",
        "# prepare object points, like (0,0,0), (1,0,0), (2,0,0) ....,(6,5,0)\n",
        "objp = np.zeros((10*7, 3), np.float32)\n",
        "objp[:,:2] = np.mgrid[0:10,0:7].T.reshape(-1,2)\n",
        "\n",
        "# Arrays to store object points and image points from all the images.\n",
        "# 패턴 검출을 통해 객체 지점(objpoints)와 이미지 지점(imgpoints)를 파악함. \n",
        "objpoints = [] # 3d point in real world space\n",
        "imgpoints = [] # 2d points in image plane.\n",
        " \n",
        "images = glob.glob('image *')\n",
        "# images = glob.glob(\"graycode_*\")\n",
        "# path = 'results'\n",
        "# pathlib.Path(path).mkdir(parents=True, exist_ok=True) "
      ],
      "execution_count": 0,
      "outputs": []
    },
    {
      "cell_type": "code",
      "metadata": {
        "id": "2pIQTJzx3DYR",
        "colab_type": "code",
        "colab": {}
      },
      "source": [
        "from google.colab.patches import cv2_imshow"
      ],
      "execution_count": 0,
      "outputs": []
    },
    {
      "cell_type": "code",
      "metadata": {
        "id": "lX1Yw_WkZa2T",
        "colab_type": "code",
        "outputId": "7904ac82-914e-4cae-8ff1-3ad84761207e",
        "colab": {
          "base_uri": "https://localhost:8080/",
          "height": 503
        }
      },
      "source": [
        "found = 0\n",
        "\n",
        "for fname in images:  # Here, 10 can be changed to whatever number you like to choose\n",
        "    img = cv2.imread(fname) # Capture frame-by-frame\n",
        "    print(fname)\n",
        "    #print(images[im_i])\n",
        "    gray = cv2.cvtColor(img, cv2.COLOR_BGR2GRAY)\n",
        "    # Find the chess board corners \n",
        "    # 체스보드의 패턴을 찾기 위해 cv2.findChessboardCorners() 함수를 사용한다. \n",
        "    # 이 함수는 코너 지점과 패턴이 발견되었는지 여부를 반환한다. \n",
        "    ret, corners = cv2.findChessboardCorners(gray, (10, 7), None)\n",
        "    # If found, add object points, image points (after refining them)\n",
        "    if ret == True: # 코너를 발견함. \n",
        "        objpoints.append(objp)   # Certainly, every loop objp is the same, in 3D.\n",
        "        corners2 = cv2.cornerSubPix(gray,corners,(11,11),(-1,-1),criteria) # 정확도를 높힘. \n",
        "        imgpoints.append(corners2)\n",
        "        # Draw and display the corners\n",
        "        img = cv2.drawChessboardCorners(img, (10,7), corners2, ret) # 결과를 그림. \n",
        "        found += 1\n",
        "        # cv2_imshow(img) # -> colab에서 사용하기 힘든 함수라 함. \n",
        "        # cv2.waitKey(500)\n",
        "        # plt.figure(figsize=(30, 30))\n",
        "        # plt.imshow(img)\n",
        "        # plt.axis(\"off\")\n",
        "        # plt.show()\n",
        "        # if you want to save images with detected corners \n",
        "        # uncomment following 2 lines and lines 5, 18 and 19\n",
        "        # image_name = path + '/calibresult' + str(found) + '.png'\n",
        "        # cv2.imwrite(image_name, img)\n",
        "    \n",
        "print(\"Number of images used for calibration: \", found)"
      ],
      "execution_count": 11,
      "outputs": [
        {
          "output_type": "stream",
          "text": [
            "image (1).JPG\n",
            "image (2).JPG\n",
            "image (3).JPG\n",
            "image (4).JPG\n",
            "image (5).JPG\n",
            "image (6).JPG\n",
            "image (7).JPG\n",
            "image (8).JPG\n",
            "image (9).JPG\n",
            "image (10).JPG\n",
            "image (11).JPG\n",
            "image (12).JPG\n",
            "image (13).JPG\n",
            "image (14).JPG\n",
            "image (15).JPG\n",
            "image (16).JPG\n",
            "image (17).JPG\n",
            "image (18).JPG\n",
            "image (19).JPG\n",
            "image (20).JPG\n",
            "image (21).JPG\n",
            "image (22).JPG\n",
            "image (23).JPG\n",
            "image (24).JPG\n",
            "image (25).JPG\n",
            "Number of images used for calibration:  25\n"
          ],
          "name": "stdout"
        }
      ]
    },
    {
      "cell_type": "code",
      "metadata": {
        "id": "Aj-inB9ZkDR3",
        "colab_type": "code",
        "outputId": "e5f620a6-74b4-45aa-8dc6-8706dec22223",
        "colab": {
          "base_uri": "https://localhost:8080/",
          "height": 35
        }
      },
      "source": [
        "len(imgpoints)"
      ],
      "execution_count": 0,
      "outputs": [
        {
          "output_type": "execute_result",
          "data": {
            "text/plain": [
              "48"
            ]
          },
          "metadata": {
            "tags": []
          },
          "execution_count": 6
        }
      ]
    },
    {
      "cell_type": "code",
      "metadata": {
        "id": "Z20vwObmZdUh",
        "colab_type": "code",
        "colab": {}
      },
      "source": [
        "# When everything done, release the capture\n",
        "# cap.release()\n",
        "cv2.destroyAllWindows()\n",
        "\n",
        "# calibration\n",
        "ret, mtx, dist, rvecs, tvecs = cv2.calibrateCamera(objpoints, imgpoints, gray.shape[::-1], None, None)\n",
        "\n",
        "# transform the matrix and distortion coefficients to writable lists\n",
        "data = {'camera_matrix': np.asarray(mtx).tolist(),\n",
        "        'dist_coeff': np.asarray(dist).tolist()}\n",
        "\n",
        "# and save it to a file\n",
        "with open(\"calibration_matrix.yaml\", \"w\") as f:\n",
        "    yaml.dump(data, f)\n",
        "\n",
        "# done"
      ],
      "execution_count": 0,
      "outputs": []
    },
    {
      "cell_type": "code",
      "metadata": {
        "id": "-NKWUzWJMEKe",
        "colab_type": "code",
        "outputId": "2f5e6621-733d-4d47-94c9-9e5c3d269ed5",
        "colab": {
          "base_uri": "https://localhost:8080/",
          "height": 36
        }
      },
      "source": [
        "print(\"RMS : \", ret)"
      ],
      "execution_count": 13,
      "outputs": [
        {
          "output_type": "stream",
          "text": [
            "RMS :  1.0503117463077551\n"
          ],
          "name": "stdout"
        }
      ]
    },
    {
      "cell_type": "code",
      "metadata": {
        "id": "mqoVHt5BgYUl",
        "colab_type": "code",
        "outputId": "789aca7d-4728-4fe5-d302-d2c07213431b",
        "colab": {
          "base_uri": "https://localhost:8080/",
          "height": 70
        }
      },
      "source": [
        "np.asarray(mtx).tolist()"
      ],
      "execution_count": 0,
      "outputs": [
        {
          "output_type": "execute_result",
          "data": {
            "text/plain": [
              "[[2111.8492406740324, 0.0, 1211.2940341075587],\n",
              " [0.0, 2056.731484626631, 883.6371360843018],\n",
              " [0.0, 0.0, 1.0]]"
            ]
          },
          "metadata": {
            "tags": []
          },
          "execution_count": 10
        }
      ]
    },
    {
      "cell_type": "code",
      "metadata": {
        "id": "VP0BeELWSFLH",
        "colab_type": "code",
        "colab": {}
      },
      "source": [
        "def printNumpyWithIndent(tar, indentchar):\n",
        "    print(indentchar + str(tar).replace('\\n', '\\n' + indentchar))  "
      ],
      "execution_count": 0,
      "outputs": []
    },
    {
      "cell_type": "code",
      "metadata": {
        "id": "4FjcJWTVRNL_",
        "colab_type": "code",
        "colab": {
          "base_uri": "https://localhost:8080/",
          "height": 92
        },
        "outputId": "cc354a4a-2f0c-4525-a2d9-ab7810237f19"
      },
      "source": [
        "rvecs[2] # image(3)가 제일 평평함. \n",
        "cam_rotation_matrix = np.zeros(shape=(3, 3))\n",
        "cv2.Rodrigues(rvecs[2], cam_rotation_matrix) \n",
        "\n",
        "print('  cam_rvecs_image(3) :')\n",
        "printNumpyWithIndent(cam_rotation_matrix, '    ')"
      ],
      "execution_count": 16,
      "outputs": [
        {
          "output_type": "stream",
          "text": [
            "  cam_rvecs_image(3) :\n",
            "    [[ 0.99996346 -0.0082431  -0.00226561]\n",
            "     [ 0.00841565  0.90260298  0.43039172]\n",
            "     [-0.00150281 -0.43039506  0.90263937]]\n"
          ],
          "name": "stdout"
        }
      ]
    },
    {
      "cell_type": "code",
      "metadata": {
        "id": "99mw1u2wIzlM",
        "colab_type": "code",
        "outputId": "a0127c61-b53f-4390-c75f-934eb24beadb",
        "colab": {
          "base_uri": "https://localhost:8080/",
          "height": 73
        }
      },
      "source": [
        "tvecs[2]"
      ],
      "execution_count": 17,
      "outputs": [
        {
          "output_type": "execute_result",
          "data": {
            "text/plain": [
              "array([[-3.09891127],\n",
              "       [-5.08157722],\n",
              "       [30.73382527]])"
            ]
          },
          "metadata": {
            "tags": []
          },
          "execution_count": 17
        }
      ]
    },
    {
      "cell_type": "markdown",
      "metadata": {
        "id": "V1RaROhw3tIn",
        "colab_type": "text"
      },
      "source": [
        "**block size : default**\n",
        "\n",
        "camera_matrix:\n",
        "\n",
        "[[2111.8492406740324, 0.0, 1211.2940341075587]\n",
        "\n",
        "[0.0, 2056.731484626631, 883.6371360843018]\n",
        "\n",
        "[0.0, 0.0, 1.0]]\n",
        "\n",
        "dist_coeff:\n",
        "\n",
        "[[-0.4089409417093742, 2.4885790421166716, 0.043070452804298824, -0.0007310370007457026, -12.445596563012291]]"
      ]
    },
    {
      "cell_type": "code",
      "metadata": {
        "id": "3Ofy0FO1CIma",
        "colab_type": "code",
        "outputId": "61c3c771-7e19-49fc-a957-79891cf4fe0a",
        "colab": {
          "base_uri": "https://localhost:8080/",
          "height": 36
        }
      },
      "source": [
        "found = 0\n",
        "\n",
        "for fname in images:  # Here, 10 can be changed to whatever number you like to choose\n",
        "    img = cv2.imread(fname) # Capture frame-by-frame\n",
        "    #print(images[im_i])\n",
        "    gray = cv2.cvtColor(img, cv2.COLOR_BGR2GRAY)\n",
        "    # Find the chess board corners \n",
        "    # 체스보드의 패턴을 찾기 위해 cv2.findChessboardCorners() 함수를 사용한다. \n",
        "    # 이 함수는 코너 지점과 패턴이 발견되었는지 여부를 반환한다. \n",
        "    ret, corners = cv2.findChessboardCorners(gray, (10, 7), None)\n",
        "    # If found, add object points, image points (after refining them)\n",
        "    if ret == True: # 코너를 발견함. \n",
        "        objpoints.append(objp)   # Certainly, every loop objp is the same, in 3D.\n",
        "        corners2 = cv2.cornerSubPix(gray,corners,(11,11),(-1,-1),criteria) # 정확도를 높힘. \n",
        "        imgpoints.append(corners2)\n",
        "        # Draw and display the corners\n",
        "        # img = cv2.drawChessboardCorners(img, (10,7), corners2, ret) # 결과를 그림. \n",
        "        found += 1\n",
        "        # cv2.imshow('img', img) -> colab에서 사용하기 힘든 함수라 함. \n",
        "        # cv2.waitKey(500)\n",
        "        # if you want to save images with detected corners \n",
        "        # uncomment following 2 lines and lines 5, 18 and 19\n",
        "        # image_name = path + '/calibresult' + str(found) + '.png'\n",
        "        # cv2.imwrite(image_name, img)\n",
        "\n",
        "objpoints = [ num * 68 for num in objpoints ] # block size : 68 mm \n",
        "print(\"Number of images used for calibration: \", found)"
      ],
      "execution_count": 18,
      "outputs": [
        {
          "output_type": "stream",
          "text": [
            "Number of images used for calibration:  25\n"
          ],
          "name": "stdout"
        }
      ]
    },
    {
      "cell_type": "code",
      "metadata": {
        "id": "QAYfpbuECQhw",
        "colab_type": "code",
        "colab": {}
      },
      "source": [
        "# When everything done, release the capture\n",
        "# cap.release()\n",
        "cv2.destroyAllWindows()\n",
        "\n",
        "# calibration\n",
        "ret, mtx, dist, rvecs, tvecs = cv2.calibrateCamera(objpoints, imgpoints, gray.shape[::-1], None, None)\n",
        "\n",
        "# transform the matrix and distortion coefficients to writable lists\n",
        "data = {'camera_matrix': np.asarray(mtx).tolist(),\n",
        "        'dist_coeff': np.asarray(dist).tolist()}\n",
        "\n",
        "# and save it to a file\n",
        "with open(\"calibration_matrix.yaml\", \"w\") as f:\n",
        "    yaml.dump(data, f)\n",
        "\n",
        "# done"
      ],
      "execution_count": 0,
      "outputs": []
    },
    {
      "cell_type": "code",
      "metadata": {
        "id": "pM9k4E9tpeT3",
        "colab_type": "code",
        "outputId": "15b9384b-bd48-47a3-ee2b-b847eb7dee06",
        "colab": {
          "base_uri": "https://localhost:8080/",
          "height": 35
        }
      },
      "source": [
        "print(\"RMS : \", ret)"
      ],
      "execution_count": 0,
      "outputs": [
        {
          "output_type": "stream",
          "text": [
            "RMS :  1.0503117463082716\n"
          ],
          "name": "stdout"
        }
      ]
    },
    {
      "cell_type": "code",
      "metadata": {
        "id": "sTdDTMGFpgQl",
        "colab_type": "code",
        "outputId": "e0f44504-450c-4e64-d078-f89cbac87a69",
        "colab": {
          "base_uri": "https://localhost:8080/",
          "height": 70
        }
      },
      "source": [
        "np.asarray(mtx).tolist()"
      ],
      "execution_count": 0,
      "outputs": [
        {
          "output_type": "execute_result",
          "data": {
            "text/plain": [
              "[[2111.8492406992, 0.0, 1211.294034109914],\n",
              " [0.0, 2056.7314846421655, 883.6371360622597],\n",
              " [0.0, 0.0, 1.0]]"
            ]
          },
          "metadata": {
            "tags": []
          },
          "execution_count": 16
        }
      ]
    },
    {
      "cell_type": "code",
      "metadata": {
        "id": "cT5QcqVvRAgG",
        "colab_type": "code",
        "outputId": "08b1c68c-58f4-468d-fba7-c963fc050322",
        "colab": {
          "base_uri": "https://localhost:8080/",
          "height": 92
        }
      },
      "source": [
        "rvecs[2] # image(3)가 제일 평평함. \n",
        "cam_rotation_matrix = np.zeros(shape=(3, 3))\n",
        "cv2.Rodrigues(rvecs[2], cam_rotation_matrix) \n",
        "\n",
        "print('  cam_rvecs_image(3) :')\n",
        "printNumpyWithIndent(cam_rotation_matrix, '    ')"
      ],
      "execution_count": 22,
      "outputs": [
        {
          "output_type": "stream",
          "text": [
            "  cam_rvecs_image(3) :\n",
            "    [[ 0.99996346 -0.0082431  -0.00226561]\n",
            "     [ 0.00841565  0.90260298  0.43039172]\n",
            "     [-0.00150281 -0.43039506  0.90263937]]\n"
          ],
          "name": "stdout"
        }
      ]
    },
    {
      "cell_type": "code",
      "metadata": {
        "id": "d4IQKRMFHUar",
        "colab_type": "code",
        "outputId": "debfbae0-ea9b-4435-b7c2-47f59b006fe7",
        "colab": {
          "base_uri": "https://localhost:8080/",
          "height": 73
        }
      },
      "source": [
        "tvecs[2]"
      ],
      "execution_count": 23,
      "outputs": [
        {
          "output_type": "execute_result",
          "data": {
            "text/plain": [
              "array([[-210.72596642],\n",
              "       [-345.54725066],\n",
              "       [2089.90011831]])"
            ]
          },
          "metadata": {
            "tags": []
          },
          "execution_count": 23
        }
      ]
    },
    {
      "cell_type": "markdown",
      "metadata": {
        "id": "T0t-R-3eEUhZ",
        "colab_type": "text"
      },
      "source": [
        "**block size : 6.8 mm**\n",
        "\n",
        "camera_matrix:\n",
        "\n",
        "[[2111.8492406992, 0.0, 1211.294034109914]\n",
        "\n",
        "[0.0, 2056.7314846421655, 883.6371360622597]\n",
        "\n",
        "[0.0, 0.0, 1.0]]\n",
        "\n",
        "dist_coeff:\n",
        "\n",
        "[[-0.40894094173114914, 2.4885790426860726, 0.04307045280817715, -0.0007310370007799288,  -12.445596567134269]]"
      ]
    }
  ]
}
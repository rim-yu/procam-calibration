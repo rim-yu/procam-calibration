{
  "nbformat": 4,
  "nbformat_minor": 0,
  "metadata": {
    "colab": {
      "name": "Copy_of_cameraCalibrationCodeReview.ipynb",
      "provenance": [],
      "collapsed_sections": [],
      "mount_file_id": "1jrA9t5lFl5VLl0-DOLQvABQWU4LQHLEy",
      "authorship_tag": "ABX9TyP6eJ0fMAxHUE0yvWq56QHg",
      "include_colab_link": true
    },
    "kernelspec": {
      "name": "python3",
      "display_name": "Python 3"
    }
  },
  "cells": [
    {
      "cell_type": "markdown",
      "metadata": {
        "id": "view-in-github",
        "colab_type": "text"
      },
      "source": [
        "<a href=\"https://colab.research.google.com/github/rim-yu/procam-calibration/blob/master/Copy_of_cameraCalibrationCodeReview.ipynb\" target=\"_parent\"><img src=\"https://colab.research.google.com/assets/colab-badge.svg\" alt=\"Open In Colab\"/></a>"
      ]
    },
    {
      "cell_type": "code",
      "metadata": {
        "id": "jHZzrzhscHq6",
        "colab_type": "code",
        "outputId": "30ae1b54-e01b-4daa-9809-9548d790a293",
        "colab": {
          "base_uri": "https://localhost:8080/",
          "height": 36
        }
      },
      "source": [
        "cd /content/drive/\"My Drive\"/danbi-project/images"
      ],
      "execution_count": 1,
      "outputs": [
        {
          "output_type": "stream",
          "text": [
            "/content/drive/My Drive/danbi-project/images\n"
          ],
          "name": "stdout"
        }
      ]
    },
    {
      "cell_type": "code",
      "metadata": {
        "id": "5jtQV2TU1zgp",
        "colab_type": "code",
        "outputId": "c6953b0b-d00b-4ca5-f783-d5d6c6a46ea6",
        "colab": {
          "base_uri": "https://localhost:8080/",
          "height": 35
        }
      },
      "source": [
        "pwd"
      ],
      "execution_count": 0,
      "outputs": [
        {
          "output_type": "execute_result",
          "data": {
            "text/plain": [
              "'/content/drive/My Drive/danbi-project/images'"
            ]
          },
          "metadata": {
            "tags": []
          },
          "execution_count": 2
        }
      ]
    },
    {
      "cell_type": "code",
      "metadata": {
        "id": "UUCBSF-mc3Mc",
        "colab_type": "code",
        "outputId": "b6bc00d9-6deb-4355-af60-36e81ecbca94",
        "colab": {
          "base_uri": "https://localhost:8080/",
          "height": 148
        }
      },
      "source": [
        "ls"
      ],
      "execution_count": 10,
      "outputs": [
        {
          "output_type": "stream",
          "text": [
            " calibration_matrix.yaml  'image (16).JPG'  'image (22).JPG'  'image (5).JPG'\n",
            "'image (10).JPG'          'image (17).JPG'  'image (23).JPG'  'image (6).JPG'\n",
            "'image (11).JPG'          'image (18).JPG'  'image (24).JPG'  'image (7).JPG'\n",
            "'image (12).JPG'          'image (19).JPG'  'image (25).JPG'  'image (8).JPG'\n",
            "'image (13).JPG'          'image (1).JPG'   'image (2).JPG'   'image (9).JPG'\n",
            "'image (14).JPG'          'image (20).JPG'  'image (3).JPG'\n",
            "'image (15).JPG'          'image (21).JPG'  'image (4).JPG'\n"
          ],
          "name": "stdout"
        }
      ]
    },
    {
      "cell_type": "code",
      "metadata": {
        "id": "DFE7r3c9XKFO",
        "colab_type": "code",
        "colab": {}
      },
      "source": [
        "import numpy as np\n",
        "import cv2\n",
        "import glob\n",
        "import yaml\n",
        "import pathlib\n",
        "from matplotlib import pyplot as plt \n",
        "\n",
        "# termination criteria 종료 기준. \n",
        "criteria = (cv2.TERM_CRITERIA_EPS + cv2.TERM_CRITERIA_MAX_ITER, 30, 0.001)\n",
        "# prepare object points, like (0,0,0), (1,0,0), (2,0,0) ....,(6,5,0)\n",
        "objp = np.zeros((10*7, 3), np.float32)\n",
        "objp[:,:2] = np.mgrid[0:10,0:7].T.reshape(-1,2)\n",
        "\n",
        "# Arrays to store object points and image points from all the images.\n",
        "# 패턴 검출을 통해 객체 지점(objpoints)와 이미지 지점(imgpoints)를 파악함. \n",
        "objpoints = [] # 3d point in real world space\n",
        "imgpoints = [] # 2d points in image plane.\n",
        " \n",
        "images = glob.glob('image *')\n",
        "# images = glob.glob(\"graycode_*\")\n",
        "# path = 'results'\n",
        "# pathlib.Path(path).mkdir(parents=True, exist_ok=True) "
      ],
      "execution_count": 0,
      "outputs": []
    },
    {
      "cell_type": "code",
      "metadata": {
        "id": "2pIQTJzx3DYR",
        "colab_type": "code",
        "colab": {}
      },
      "source": [
        "from google.colab.patches import cv2_imshow"
      ],
      "execution_count": 0,
      "outputs": []
    },
    {
      "cell_type": "code",
      "metadata": {
        "id": "lX1Yw_WkZa2T",
        "colab_type": "code",
        "outputId": "7904ac82-914e-4cae-8ff1-3ad84761207e",
        "colab": {
          "base_uri": "https://localhost:8080/",
          "height": 503
        }
      },
      "source": [
        "found = 0\n",
        "\n",
        "for fname in images:  # Here, 10 can be changed to whatever number you like to choose\n",
        "    img = cv2.imread(fname) # Capture frame-by-frame\n",
        "    print(fname)\n",
        "    #print(images[im_i])\n",
        "    gray = cv2.cvtColor(img, cv2.COLOR_BGR2GRAY)\n",
        "    # Find the chess board corners \n",
        "    # 체스보드의 패턴을 찾기 위해 cv2.findChessboardCorners() 함수를 사용한다. \n",
        "    # 이 함수는 코너 지점과 패턴이 발견되었는지 여부를 반환한다. \n",
        "    ret, corners = cv2.findChessboardCorners(gray, (10, 7), None)\n",
        "    # If found, add object points, image points (after refining them)\n",
        "    if ret == True: # 코너를 발견함. \n",
        "        objpoints.append(objp)   # Certainly, every loop objp is the same, in 3D.\n",
        "        corners2 = cv2.cornerSubPix(gray,corners,(11,11),(-1,-1),criteria) # 정확도를 높힘. \n",
        "        imgpoints.append(corners2)\n",
        "        # Draw and display the corners\n",
        "        img = cv2.drawChessboardCorners(img, (10,7), corners2, ret) # 결과를 그림. \n",
        "        found += 1\n",
        "        # cv2_imshow(img) # -> colab에서 사용하기 힘든 함수라 함. \n",
        "        # cv2.waitKey(500)\n",
        "        # plt.figure(figsize=(30, 30))\n",
        "        # plt.imshow(img)\n",
        "        # plt.axis(\"off\")\n",
        "        # plt.show()\n",
        "        # if you want to save images with detected corners \n",
        "        # uncomment following 2 lines and lines 5, 18 and 19\n",
        "        # image_name = path + '/calibresult' + str(found) + '.png'\n",
        "        # cv2.imwrite(image_name, img)\n",
        "    \n",
        "print(\"Number of images used for calibration: \", found)"
      ],
      "execution_count": 11,
      "outputs": [
        {
          "output_type": "stream",
          "text": [
            "image (1).JPG\n",
            "image (2).JPG\n",
            "image (3).JPG\n",
            "image (4).JPG\n",
            "image (5).JPG\n",
            "image (6).JPG\n",
            "image (7).JPG\n",
            "image (8).JPG\n",
            "image (9).JPG\n",
            "image (10).JPG\n",
            "image (11).JPG\n",
            "image (12).JPG\n",
            "image (13).JPG\n",
            "image (14).JPG\n",
            "image (15).JPG\n",
            "image (16).JPG\n",
            "image (17).JPG\n",
            "image (18).JPG\n",
            "image (19).JPG\n",
            "image (20).JPG\n",
            "image (21).JPG\n",
            "image (22).JPG\n",
            "image (23).JPG\n",
            "image (24).JPG\n",
            "image (25).JPG\n",
            "Number of images used for calibration:  25\n"
          ],
          "name": "stdout"
        }
      ]
    },
    {
      "cell_type": "code",
      "metadata": {
        "id": "Aj-inB9ZkDR3",
        "colab_type": "code",
        "outputId": "e5f620a6-74b4-45aa-8dc6-8706dec22223",
        "colab": {
          "base_uri": "https://localhost:8080/",
          "height": 35
        }
      },
      "source": [
        "len(imgpoints)"
      ],
      "execution_count": 0,
      "outputs": [
        {
          "output_type": "execute_result",
          "data": {
            "text/plain": [
              "48"
            ]
          },
          "metadata": {
            "tags": []
          },
          "execution_count": 6
        }
      ]
    },
    {
      "cell_type": "code",
      "metadata": {
        "id": "Z20vwObmZdUh",
        "colab_type": "code",
        "colab": {}
      },
      "source": [
        "# When everything done, release the capture\n",
        "# cap.release()\n",
        "cv2.destroyAllWindows()\n",
        "\n",
        "# calibration\n",
        "ret, mtx, dist, rvecs, tvecs = cv2.calibrateCamera(objpoints, imgpoints, gray.shape[::-1], None, None)\n",
        "\n",
        "# transform the matrix and distortion coefficients to writable lists\n",
        "data = {'camera_matrix': np.asarray(mtx).tolist(),\n",
        "        'dist_coeff': np.asarray(dist).tolist()}\n",
        "\n",
        "# and save it to a file\n",
        "with open(\"calibration_matrix.yaml\", \"w\") as f:\n",
        "    yaml.dump(data, f)\n",
        "\n",
        "# done"
      ],
      "execution_count": 0,
      "outputs": []
    },
    {
      "cell_type": "code",
      "metadata": {
        "id": "-NKWUzWJMEKe",
        "colab_type": "code",
        "outputId": "2f5e6621-733d-4d47-94c9-9e5c3d269ed5",
        "colab": {
          "base_uri": "https://localhost:8080/",
          "height": 36
        }
      },
      "source": [
        "print(\"RMS : \", ret)"
      ],
      "execution_count": 13,
      "outputs": [
        {
          "output_type": "stream",
          "text": [
            "RMS :  1.0503117463077551\n"
          ],
          "name": "stdout"
        }
      ]
    },
    {
      "cell_type": "code",
      "metadata": {
        "id": "mqoVHt5BgYUl",
        "colab_type": "code",
        "outputId": "789aca7d-4728-4fe5-d302-d2c07213431b",
        "colab": {
          "base_uri": "https://localhost:8080/",
          "height": 70
        }
      },
      "source": [
        "np.asarray(mtx).tolist()"
      ],
      "execution_count": 0,
      "outputs": [
        {
          "output_type": "execute_result",
          "data": {
            "text/plain": [
              "[[2111.8492406740324, 0.0, 1211.2940341075587],\n",
              " [0.0, 2056.731484626631, 883.6371360843018],\n",
              " [0.0, 0.0, 1.0]]"
            ]
          },
          "metadata": {
            "tags": []
          },
          "execution_count": 10
        }
      ]
    },
    {
      "cell_type": "code",
      "metadata": {
        "id": "VP0BeELWSFLH",
        "colab_type": "code",
        "colab": {}
      },
      "source": [
        "def printNumpyWithIndent(tar, indentchar):\n",
        "    print(indentchar + str(tar).replace('\\n', '\\n' + indentchar))  "
      ],
      "execution_count": 0,
      "outputs": []
    },
    {
      "cell_type": "code",
      "metadata": {
        "id": "4FjcJWTVRNL_",
        "colab_type": "code",
        "colab": {
          "base_uri": "https://localhost:8080/",
          "height": 92
        },
        "outputId": "cc354a4a-2f0c-4525-a2d9-ab7810237f19"
      },
      "source": [
        "rvecs[2] # image(3)가 제일 평평함. \n",
        "cam_rotation_matrix = np.zeros(shape=(3, 3))\n",
        "cv2.Rodrigues(rvecs[2], cam_rotation_matrix) \n",
        "\n",
        "print('  cam_rvecs_image(3) :')\n",
        "printNumpyWithIndent(cam_rotation_matrix, '    ')"
      ],
      "execution_count": 16,
      "outputs": [
        {
          "output_type": "stream",
          "text": [
            "  cam_rvecs_image(3) :\n",
            "    [[ 0.99996346 -0.0082431  -0.00226561]\n",
            "     [ 0.00841565  0.90260298  0.43039172]\n",
            "     [-0.00150281 -0.43039506  0.90263937]]\n"
          ],
          "name": "stdout"
        }
      ]
    },
    {
      "cell_type": "code",
      "metadata": {
        "id": "99mw1u2wIzlM",
        "colab_type": "code",
        "outputId": "a0127c61-b53f-4390-c75f-934eb24beadb",
        "colab": {
          "base_uri": "https://localhost:8080/",
          "height": 73
        }
      },
      "source": [
        "tvecs[2]"
      ],
      "execution_count": 17,
      "outputs": [
        {
          "output_type": "execute_result",
          "data": {
            "text/plain": [
              "array([[-3.09891127],\n",
              "       [-5.08157722],\n",
              "       [30.73382527]])"
            ]
          },
          "metadata": {
            "tags": []
          },
          "execution_count": 17
        }
      ]
    },
    {
      "cell_type": "markdown",
      "metadata": {
        "id": "V1RaROhw3tIn",
        "colab_type": "text"
      },
      "source": [
        "**block size : default**\n",
        "\n",
        "camera_matrix:\n",
        "\n",
        "[[2111.8492406740324, 0.0, 1211.2940341075587]\n",
        "\n",
        "[0.0, 2056.731484626631, 883.6371360843018]\n",
        "\n",
        "[0.0, 0.0, 1.0]]\n",
        "\n",
        "dist_coeff:\n",
        "\n",
        "[[-0.4089409417093742, 2.4885790421166716, 0.043070452804298824, -0.0007310370007457026, -12.445596563012291]]"
      ]
    },
    {
      "cell_type": "code",
      "metadata": {
        "id": "3Ofy0FO1CIma",
        "colab_type": "code",
        "outputId": "0194ae62-929e-4e41-c4e3-e14fd0e72f25",
        "colab": {
          "base_uri": "https://localhost:8080/",
          "height": 35
        }
      },
      "source": [
        "found = 0\n",
        "\n",
        "for fname in images:  # Here, 10 can be changed to whatever number you like to choose\n",
        "    img = cv2.imread(fname) # Capture frame-by-frame\n",
        "    #print(images[im_i])\n",
        "    gray = cv2.cvtColor(img, cv2.COLOR_BGR2GRAY)\n",
        "    # Find the chess board corners \n",
        "    # 체스보드의 패턴을 찾기 위해 cv2.findChessboardCorners() 함수를 사용한다. \n",
        "    # 이 함수는 코너 지점과 패턴이 발견되었는지 여부를 반환한다. \n",
        "    ret, corners = cv2.findChessboardCorners(gray, (10, 7), None)\n",
        "    # If found, add object points, image points (after refining them)\n",
        "    if ret == True: # 코너를 발견함. \n",
        "        objpoints.append(objp)   # Certainly, every loop objp is the same, in 3D.\n",
        "        corners2 = cv2.cornerSubPix(gray,corners,(11,11),(-1,-1),criteria) # 정확도를 높힘. \n",
        "        imgpoints.append(corners2)\n",
        "        # Draw and display the corners\n",
        "        # img = cv2.drawChessboardCorners(img, (10,7), corners2, ret) # 결과를 그림. \n",
        "        found += 1\n",
        "        # cv2.imshow('img', img) -> colab에서 사용하기 힘든 함수라 함. \n",
        "        # cv2.waitKey(500)\n",
        "        # if you want to save images with detected corners \n",
        "        # uncomment following 2 lines and lines 5, 18 and 19\n",
        "        # image_name = path + '/calibresult' + str(found) + '.png'\n",
        "        # cv2.imwrite(image_name, img)\n",
        "\n",
        "objpoints = [ num * 68 for num in objpoints ] # block size : 68 mm \n",
        "print(\"Number of images used for calibration: \", found)"
      ],
      "execution_count": 0,
      "outputs": [
        {
          "output_type": "stream",
          "text": [
            "Number of images used for calibration:  25\n"
          ],
          "name": "stdout"
        }
      ]
    },
    {
      "cell_type": "code",
      "metadata": {
        "id": "QAYfpbuECQhw",
        "colab_type": "code",
        "colab": {}
      },
      "source": [
        "# When everything done, release the capture\n",
        "# cap.release()\n",
        "cv2.destroyAllWindows()\n",
        "\n",
        "# calibration\n",
        "ret, mtx, dist, rvecs, tvecs = cv2.calibrateCamera(objpoints, imgpoints, gray.shape[::-1], None, None)\n",
        "\n",
        "# transform the matrix and distortion coefficients to writable lists\n",
        "data = {'camera_matrix': np.asarray(mtx).tolist(),\n",
        "        'dist_coeff': np.asarray(dist).tolist()}\n",
        "\n",
        "# and save it to a file\n",
        "with open(\"calibration_matrix.yaml\", \"w\") as f:\n",
        "    yaml.dump(data, f)\n",
        "\n",
        "# done"
      ],
      "execution_count": 0,
      "outputs": []
    },
    {
      "cell_type": "code",
      "metadata": {
        "id": "pM9k4E9tpeT3",
        "colab_type": "code",
        "outputId": "15b9384b-bd48-47a3-ee2b-b847eb7dee06",
        "colab": {
          "base_uri": "https://localhost:8080/",
          "height": 35
        }
      },
      "source": [
        "print(\"RMS : \", ret)"
      ],
      "execution_count": 0,
      "outputs": [
        {
          "output_type": "stream",
          "text": [
            "RMS :  1.0503117463082716\n"
          ],
          "name": "stdout"
        }
      ]
    },
    {
      "cell_type": "code",
      "metadata": {
        "id": "sTdDTMGFpgQl",
        "colab_type": "code",
        "outputId": "e0f44504-450c-4e64-d078-f89cbac87a69",
        "colab": {
          "base_uri": "https://localhost:8080/",
          "height": 70
        }
      },
      "source": [
        "np.asarray(mtx).tolist()"
      ],
      "execution_count": 0,
      "outputs": [
        {
          "output_type": "execute_result",
          "data": {
            "text/plain": [
              "[[2111.8492406992, 0.0, 1211.294034109914],\n",
              " [0.0, 2056.7314846421655, 883.6371360622597],\n",
              " [0.0, 0.0, 1.0]]"
            ]
          },
          "metadata": {
            "tags": []
          },
          "execution_count": 16
        }
      ]
    },
    {
      "cell_type": "code",
      "metadata": {
        "id": "cT5QcqVvRAgG",
        "colab_type": "code",
        "outputId": "0153ff6f-c43b-4c75-ba8e-e210323f22fb",
        "colab": {
          "base_uri": "https://localhost:8080/",
          "height": 906
        }
      },
      "source": [
        "np.asarray(rvecs).tolist()"
      ],
      "execution_count": 0,
      "outputs": [
        {
          "output_type": "execute_result",
          "data": {
            "text/plain": [
              "[[[-0.32334001866066586], [0.36675296498226206], [1.7298601183985116]],\n",
              " [[-0.3972101890334299], [0.21066987191444192], [1.02874361159627]],\n",
              " [[-0.44493454055528314], [-0.0003942846021837501], [0.008610791485448292]],\n",
              " [[-0.4281532021664576], [-0.10976301009415405], [-0.512539363242263]],\n",
              " [[-0.26615099128102876], [-0.06255849109847178], [-0.3539125419373866]],\n",
              " [[-0.4225217607215091], [-0.1359643280888124], [-0.1345923695339664]],\n",
              " [[-0.3453879934523246], [0.26796333116458815], [1.322647275867424]],\n",
              " [[-0.25421665513827474], [0.39001566916795993], [1.8980051199331505]],\n",
              " [[-0.1406108456613008], [0.5751913848210738], [2.6873145823554414]],\n",
              " [[0.07493650258230795], [0.5615182784127009], [2.7654381553591154]],\n",
              " [[0.15127095136382931], [0.598423415966639], [3.032361358082064]],\n",
              " [[-0.2823514431289204], [-0.4641143162280463], [-2.651031625713511]],\n",
              " [[-0.40532998566635087], [-0.2562293094465907], [-2.0478578324785657]],\n",
              " [[-0.43700591391128746], [-0.18369780522277557], [-1.5653316508839328]],\n",
              " [[-0.4275842046001815], [-0.09370695576413791], [-0.952653135346969]],\n",
              " [[-0.4125535069532319], [0.012322222069268987], [-0.5330575069487948]],\n",
              " [[-0.39517782928260364], [0.08800023520254747], [-0.11617978703845099]],\n",
              " [[-0.3652333114599209], [0.16243850577234206], [0.29228508631065536]],\n",
              " [[-0.5942714471643548], [0.010834881528391235], [0.32478254492336234]],\n",
              " [[-0.5763104095527495], [0.09081457752319781], [0.6849364921700292]],\n",
              " [[-0.5393982897407076], [0.201790812885357], [1.1096616447637777]],\n",
              " [[-0.47708855251069254], [0.36810806566982257], [1.6457200356913801]],\n",
              " [[-0.3866557336346521], [0.5890984266265332], [2.251277394793266]],\n",
              " [[-0.20839348797038013], [0.7779199154193414], [2.7835680549789177]],\n",
              " [[0.016532100117433952], [-0.8307436771639306], [-2.773262282507782]],\n",
              " [[-0.32334001866066575], [0.36675296498226123], [1.7298601183985118]],\n",
              " [[-0.3972101890334302], [0.21066987191444175], [1.02874361159627]],\n",
              " [[-0.444934540555283], [-0.0003942846021837657], [0.008610791485448325]],\n",
              " [[-0.42815320216645725], [-0.10976301009415414], [-0.5125393632422631]],\n",
              " [[-0.2661509912810291], [-0.06255849109847204], [-0.3539125419373867]],\n",
              " [[-0.4225217607215094], [-0.13596432808881145], [-0.1345923695339664]],\n",
              " [[-0.3453879934523245], [0.26796333116458787], [1.322647275867424]],\n",
              " [[-0.25421665513827424], [0.3900156691679591], [1.8980051199331507]],\n",
              " [[-0.1406108456613005], [0.5751913848210723], [2.6873145823554414]],\n",
              " [[0.07493650258230852], [0.5615182784127011], [2.7654381553591154]],\n",
              " [[0.1512709513638296], [0.5984234159666397], [3.0323613580820634]],\n",
              " [[-0.28235144312892013], [-0.4641143162280459], [-2.6510316257135114]],\n",
              " [[-0.40532998566634953], [-0.2562293094465889], [-2.047857832478566]],\n",
              " [[-0.4370059139112874], [-0.18369780522277543], [-1.5653316508839332]],\n",
              " [[-0.4275842046001823], [-0.09370695576413865], [-0.9526531353469692]],\n",
              " [[-0.41255350695323206], [0.01232222206926898], [-0.5330575069487948]],\n",
              " [[-0.3951778292826034], [0.08800023520254761], [-0.116179787038451]],\n",
              " [[-0.3652333114599208], [0.16243850577234184], [0.29228508631065536]],\n",
              " [[-0.5942714471643545], [0.010834881528391266], [0.3247825449233623]],\n",
              " [[-0.5763104095527493], [0.09081457752319774], [0.6849364921700292]],\n",
              " [[-0.5393982897407074], [0.20179081288535697], [1.1096616447637777]],\n",
              " [[-0.4770885525106922], [0.36810806566982157], [1.6457200356913801]],\n",
              " [[-0.3866557336346522], [0.5890984266265337], [2.251277394793266]],\n",
              " [[-0.2083934879703798], [0.7779199154193426], [2.7835680549789172]],\n",
              " [[0.016532100117434032], [-0.8307436771639313], [-2.773262282507782]]]"
            ]
          },
          "metadata": {
            "tags": []
          },
          "execution_count": 10
        }
      ]
    },
    {
      "cell_type": "code",
      "metadata": {
        "id": "d4IQKRMFHUar",
        "colab_type": "code",
        "outputId": "a221c524-05b9-48d2-aeae-4ae3a8f9480e",
        "colab": {
          "base_uri": "https://localhost:8080/",
          "height": 906
        }
      },
      "source": [
        "np.asarray(tvecs).tolist()"
      ],
      "execution_count": 0,
      "outputs": [
        {
          "output_type": "execute_result",
          "data": {
            "text/plain": [
              "[[[297.82479274258566], [-461.4911873082153], [2150.7520697482755]],\n",
              " [[87.02066033516644], [-580.7505123198864], [2198.085011989331]],\n",
              " [[-210.72596641663216], [-345.54725065687114], [2089.9001183155956]],\n",
              " [[-252.6745239219927], [-267.26562180753285], [2055.7873794044863]],\n",
              " [[-168.57709028852724], [-349.46984051172336], [2022.9352910148275]],\n",
              " [[-169.1056642796682], [-387.21525714431795], [2016.0812620180443]],\n",
              " [[265.63321786368954], [-508.5078046626103], [2145.8192549379296]],\n",
              " [[441.63313918094826], [-442.4038030267317], [2113.2092931160055]],\n",
              " [[561.5692420180504], [-268.29208575875936], [2045.6383858047711]],\n",
              " [[441.0983164248343], [-62.06887830529097], [1858.1372322168925]],\n",
              " [[407.2451402873558], [-0.6667895551015841], [1843.3643042122333]],\n",
              " [[344.7453195893706], [79.68123549119304], [1820.7113062861235]],\n",
              " [[158.6232135147529], [163.00613313542274], [1827.4320625315504]],\n",
              " [[-7.931011054768868], [78.52449052569796], [1875.2459109470221]],\n",
              " [[-208.88773798880703], [90.3953131500485], [1873.9545188046072]],\n",
              " [[-229.9653795275104], [-60.50410013559923], [1945.3577870150639]],\n",
              " [[-187.93850993611306], [-238.50848302970977], [2008.625485043507]],\n",
              " [[-103.53775440141584], [-387.51697028766165], [2057.0764957879865]],\n",
              " [[-272.5460315899795], [-376.8395329563333], [2076.7843945772656]],\n",
              " [[-84.00701049695671], [-450.34879416707804], [2127.6152928046326]],\n",
              " [[50.71215287915876], [-438.39664564567096], [2126.286467356157]],\n",
              " [[213.0506760377339], [-340.90184461954203], [2083.7763316461565]],\n",
              " [[330.16605241643987], [-170.88109913175632], [2000.0766045149894]],\n",
              " [[335.0761677234639], [12.327047607448575], [1875.5101383457]],\n",
              " [[247.52899534357815], [140.66248506208464], [1788.3578105161796]],\n",
              " [[297.8247927425857], [-461.4911873082155], [2150.752069748277]],\n",
              " [[87.02066033516643], [-580.7505123198863], [2198.085011989331]],\n",
              " [[-210.72596641663213], [-345.54725065687114], [2089.9001183155956]],\n",
              " [[-252.67452392199266], [-267.26562180753285], [2055.787379404486]],\n",
              " [[-168.57709028852727], [-349.4698405117233], [2022.935291014827]],\n",
              " [[-169.1056642796682], [-387.21525714431795], [2016.0812620180452]],\n",
              " [[265.63321786368954], [-508.5078046626103], [2145.8192549379296]],\n",
              " [[441.63313918094826], [-442.4038030267318], [2113.209293116006]],\n",
              " [[561.5692420180504], [-268.29208575875947], [2045.638385804772]],\n",
              " [[441.0983164248343], [-62.068878305290944], [1858.137232216892]],\n",
              " [[407.2451402873557], [-0.6667895551015666], [1843.3643042122328]],\n",
              " [[344.74531958937064], [79.68123549119302], [1820.711306286124]],\n",
              " [[158.6232135147532], [163.00613313542286], [1827.4320625315524]],\n",
              " [[-7.931011054768848], [78.52449052569801], [1875.2459109470224]],\n",
              " [[-208.88773798880703], [90.39531315004842], [1873.954518804606]],\n",
              " [[-229.9653795275104], [-60.504100135599224], [1945.3577870150639]],\n",
              " [[-187.93850993611306], [-238.5084830297098], [2008.6254850435075]],\n",
              " [[-103.53775440141582], [-387.5169702876617], [2057.076495787987]],\n",
              " [[-272.5460315899795], [-376.8395329563333], [2076.784394577266]],\n",
              " [[-84.00701049695667], [-450.34879416707804], [2127.6152928046326]],\n",
              " [[50.71215287915878], [-438.396645645671], [2126.286467356157]],\n",
              " [[213.05067603773387], [-340.9018446195421], [2083.776331646157]],\n",
              " [[330.1660524164398], [-170.8810991317563], [2000.076604514989]],\n",
              " [[335.076167723464], [12.327047607448504], [1875.5101383456993]],\n",
              " [[247.52899534357815], [140.66248506208458], [1788.3578105161791]]]"
            ]
          },
          "metadata": {
            "tags": []
          },
          "execution_count": 11
        }
      ]
    },
    {
      "cell_type": "markdown",
      "metadata": {
        "id": "T0t-R-3eEUhZ",
        "colab_type": "text"
      },
      "source": [
        "**block size : 6.8 mm**\n",
        "\n",
        "camera_matrix:\n",
        "\n",
        "[[2111.8492406992, 0.0, 1211.294034109914]\n",
        "\n",
        "[0.0, 2056.7314846421655, 883.6371360622597]\n",
        "\n",
        "[0.0, 0.0, 1.0]]\n",
        "\n",
        "dist_coeff:\n",
        "\n",
        "[[-0.40894094173114914, 2.4885790426860726, 0.04307045280817715, -0.0007310370007799288,  -12.445596567134269]]"
      ]
    }
  ]
}
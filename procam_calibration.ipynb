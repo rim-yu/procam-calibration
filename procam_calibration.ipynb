{
  "nbformat": 4,
  "nbformat_minor": 0,
  "metadata": {
    "colab": {
      "name": "procam-calibration.ipynb",
      "provenance": [],
      "collapsed_sections": [],
      "authorship_tag": "ABX9TyMfXCbUlCKCta4S1H6vntse",
      "include_colab_link": true
    },
    "kernelspec": {
      "name": "python3",
      "display_name": "Python 3"
    }
  },
  "cells": [
    {
      "cell_type": "markdown",
      "metadata": {
        "id": "view-in-github",
        "colab_type": "text"
      },
      "source": [
        "<a href=\"https://colab.research.google.com/github/rim-yu/procam-calibration/blob/master/procam_calibration.ipynb\" target=\"_parent\"><img src=\"https://colab.research.google.com/assets/colab-badge.svg\" alt=\"Open In Colab\"/></a>"
      ]
    },
    {
      "cell_type": "code",
      "metadata": {
        "id": "70qKsQCgiIHH",
        "colab_type": "code",
        "outputId": "962ee3ce-2eeb-4871-f223-79331c92905d",
        "colab": {
          "base_uri": "https://localhost:8080/",
          "height": 126
        }
      },
      "source": [
        "# You need to mount your google drive  to the /content/gdrive folder of your virtual computer\n",
        "# located in the colab server\n",
        "\n",
        "from google.colab import drive\n",
        "drive.mount(\"/content/gdrive\")\n",
        "#drive.mount(\"/content/gdrive\", force_remount=True)"
      ],
      "execution_count": 1,
      "outputs": [
        {
          "output_type": "stream",
          "text": [
            "Go to this URL in a browser: https://accounts.google.com/o/oauth2/auth?client_id=947318989803-6bn6qk8qdgf4n4g3pfee6491hc0brc4i.apps.googleusercontent.com&redirect_uri=urn%3aietf%3awg%3aoauth%3a2.0%3aoob&response_type=code&scope=email%20https%3a%2f%2fwww.googleapis.com%2fauth%2fdocs.test%20https%3a%2f%2fwww.googleapis.com%2fauth%2fdrive%20https%3a%2f%2fwww.googleapis.com%2fauth%2fdrive.photos.readonly%20https%3a%2f%2fwww.googleapis.com%2fauth%2fpeopleapi.readonly\n",
            "\n",
            "Enter your authorization code:\n",
            "··········\n",
            "Mounted at /content/gdrive\n"
          ],
          "name": "stdout"
        }
      ]
    },
    {
      "cell_type": "code",
      "metadata": {
        "id": "635aMJnsiLQy",
        "colab_type": "code",
        "outputId": "9ab08b15-7e89-4d06-8845-5d90f0c991db",
        "colab": {
          "base_uri": "https://localhost:8080/",
          "height": 52
        }
      },
      "source": [
        "%reload_ext autoreload\n",
        "%autoreload 2\n",
        "%matplotlib inline\n",
        "\n",
        "%xmode Verbose\n",
        "%pdb on"
      ],
      "execution_count": 2,
      "outputs": [
        {
          "output_type": "stream",
          "text": [
            "Exception reporting mode: Verbose\n",
            "Automatic pdb calling has been turned ON\n"
          ],
          "name": "stdout"
        }
      ]
    },
    {
      "cell_type": "code",
      "metadata": {
        "id": "sueX8qH_iMcD",
        "colab_type": "code",
        "colab": {}
      },
      "source": [
        "import os\n",
        "import os.path\n",
        "from pathlib import Path\n",
        "#cf: https://treyhunner.com/2018/12/why-you-should-be-using-pathlib/\n",
        "import glob\n",
        "import argparse\n",
        "import cv2\n",
        "import numpy as np\n",
        "import json"
      ],
      "execution_count": 0,
      "outputs": []
    },
    {
      "cell_type": "code",
      "metadata": {
        "id": "oziZ11CniOHY",
        "colab_type": "code",
        "colab": {}
      },
      "source": [
        "def main(proj_height, proj_width, chess_rows, chess_cols, chess_block_size,\n",
        "    graycode_step, black_thr, white_thr,  camera):\n",
        "  \n",
        "# 2160 - 3840 - 10 - 7 - 68 - 1 - 40 - 5 - \"\"\n",
        "\n",
        "    proj_shape = (proj_height, proj_width) # (2160, 3840)\n",
        "    chess_shape = (chess_rows, chess_cols) # (10, 7)\n",
        "    chess_block_size = chess_block_size # chess_block_size = 68 mm\n",
        "    gc_step = graycode_step # gc_step = 1\n",
        "    black_thr = black_thr # 40\n",
        "    white_thr = white_thr # 5\n",
        "    camera_param_file = camera # \"\"\n",
        "\n",
        "    dirnames = sorted(glob.glob('./capture_*'))\n",
        "    if len(dirnames) == 0: # capture_* 형식으로 된 폴더가 없을 경우 error 뱉음. \n",
        "        print('Directories \\'./capture_*\\' were not found')\n",
        "        return\n",
        "\n",
        "    print('Searching input files ...') # capture_* 형식으로 된 폴더가 있을 경우 파일들을 찾음. \n",
        "    used_dirnames = [] \n",
        "    gc_fname_lists = [] # 파일 이름 리스트. \n",
        "    for dname in dirnames: # capture_* 폴더 돌림. * = 1->4\n",
        "        #gc_fnames = sorted(glob.glob(dname + '/graycode_*')) # graycode_* 파일들 가져옴. \n",
        "        gc_fnames = sorted(glob.glob(dname + '/graycode*'))\n",
        "        if len(gc_fnames) == 0:  \n",
        "            continue\n",
        "        used_dirnames.append(dname) # capture_* 폴더가 순차적으로 붙음. \n",
        "        gc_fname_lists.append(gc_fnames) # 파일 이름 리스트. graycode_*가 붙음. * = 00->49\n",
        "        print(' \\'' + dname + '\\' was found') # 폴더 찾았당. \n",
        "\n",
        "    camP = None # ?\n",
        "    cam_dist = None # ? \n",
        "    path, ext = os.path.splitext(camera_param_file) # camera_param_file = \"\", 파일 이름을 확장자로부터 쪼개줌. \n",
        "    if(ext == \".json\"): # 확장자명. \n",
        "        camP, cam_dist = loadCameraParam(camera_param_file) # 카메라 파라미터 저장된 json 파일 가져옴. \n",
        "        print('load camera parameters')\n",
        "        print(camP)\n",
        "        print(cam_dist)\n",
        "\n",
        "    calibrate(used_dirnames, gc_fname_lists,\n",
        "              proj_shape, chess_shape, chess_block_size, gc_step, black_thr, white_thr,\n",
        "               camP, cam_dist) \n",
        "    # calibrate 함수 쓰는데, capture_* 폴더명들, graycode_* 파일명들, 그외 각종 변수들 + camP, cam_dist "
      ],
      "execution_count": 0,
      "outputs": []
    },
    {
      "cell_type": "code",
      "metadata": {
        "id": "stpgd8rmiWM6",
        "colab_type": "code",
        "colab": {}
      },
      "source": [
        "def printNumpyWithIndent(tar, indentchar):\n",
        "    print(indentchar + str(tar).replace('\\n', '\\n' + indentchar))  "
      ],
      "execution_count": 0,
      "outputs": []
    },
    {
      "cell_type": "code",
      "metadata": {
        "id": "59yTKzzTiYKQ",
        "colab_type": "code",
        "colab": {}
      },
      "source": [
        "def loadCameraParam(json_file):\n",
        "    with open(json_file, 'r') as f:\n",
        "        param_data = json.load(f)\n",
        "        P = param_data['camera']['P']\n",
        "        d = param_data['camera']['distortion']\n",
        "        return np.array(P).reshape([3,3]), np.array(d) # ok "
      ],
      "execution_count": 0,
      "outputs": []
    },
    {
      "cell_type": "code",
      "metadata": {
        "id": "PVtCZJkNzQZn",
        "colab_type": "code",
        "outputId": "e6f13037-1679-4c37-9789-f8d9c522106f",
        "colab": {
          "base_uri": "https://localhost:8080/",
          "height": 35
        }
      },
      "source": [
        "a = [[1,1,1], [2,2,2], [3,3,3]]\n",
        "a.pop()\n",
        "a.pop()\n",
        "a"
      ],
      "execution_count": 7,
      "outputs": [
        {
          "output_type": "execute_result",
          "data": {
            "text/plain": [
              "[[1, 1, 1]]"
            ]
          },
          "metadata": {
            "tags": []
          },
          "execution_count": 7
        }
      ]
    },
    {
      "cell_type": "code",
      "metadata": {
        "id": "ybb9u2NciZah",
        "colab_type": "code",
        "colab": {}
      },
      "source": [
        "def calibrate(dirnames, gc_fname_lists, proj_shape, chess_shape, chess_block_size, gc_step, black_thr, white_thr, camP, camD):\n",
        "# proj_shape = (2160, 3840) chess_shape = (10, 7)    \n",
        "\n",
        "    # (1) object points\n",
        "    objps = np.zeros((chess_shape[0]*chess_shape[1], 3), np.float32) \n",
        "    # object points. 70행 3열 2차원 배열이 나타남. \n",
        "    objps[:, :2] = chess_block_size * \\\n",
        "        np.mgrid[0:chess_shape[0], 0:chess_shape[1]].T.reshape(-1, 2)\n",
        "        # [[0,0], ..., [9,0], ..., [9,9]] 이렇게 바뀜. \n",
        "        # 모든 행 2열 전까지. 즉 열 2개만. 3열은 0만.\n",
        "        # ok\n",
        "\n",
        "    # (2) projector size -> gray code \n",
        "    print('Calibrating ...') # 계산중임다. \n",
        "    gc_height = int((proj_shape[0]-1)/gc_step)+1 # 2160. \n",
        "    gc_width = int((proj_shape[1]-1)/gc_step)+1 # 3840. \n",
        "\n",
        "##### 이 부분이 \n",
        "    graycode = cv2.structured_light_GrayCodePattern.create(\n",
        "        gc_width, gc_height) # 3840 * 2160 -> 이거로 50장 만들어내는 듯.\n",
        "    graycode.setBlackThreshold(black_thr)  \n",
        "    graycode.setWhiteThreshold(white_thr) \n",
        "##### 이해가 잘 안가요.  \n",
        "\n",
        "    # (3) graycode_* size, patch_size \n",
        "    # cam_shape = cv2.imread(gc_fname_lists[0][0], cv2.IMREAD_GRAYSCALE).shape \n",
        "    cam_shape = cv2.imread(gc_fname_lists[0][0]).shape\n",
        "\n",
        "    # 이미지 읽기. gc_fname_lists[0][0] = graycode_00\n",
        "    # gc_fname_list 보니 맨 첫 원소는 [capture_0, graycode_00]임. \n",
        "    # cam_shape = 1600*2400 \n",
        "    patch_size_half = int(np.ceil(cam_shape[1] / 180)) # np.ceil 하면 그 값들이 '올림'된다. cam_shape = (1600, 2400)임. 왜 이건지 모르겠다. 14\n",
        "    # patch_size_half = int(np.ceil(cam_shape[1] / 270)) # 이렇게 하면 RMS가 5로 떨어지긴 하는데 카메라 내부 파라미터는 완전히 달라서 의미가 없을 듯.   \n",
        "    print('  patch size :', patch_size_half * 2 + 1) # 29\n",
        "\n",
        "    cam_corners_list = [] # 카메라 코너들을 모을 예정. \n",
        "    cam_objps_list = [] # 카메라 object들을 모을 예정. \n",
        "    cam_corners_list2 = [] # 보류\n",
        "    _cam_corners_list = [] \n",
        "\n",
        "    proj_corners_list = [] # 프로젝터 코너들을 모을 예정\n",
        "    proj_objps_list = [] # 프로젝터 object들을 모을 예정 \n",
        "    \n",
        "    # (4) dirnames = capture_*, gc_fname_lists = graycode_*\n",
        "    for dname, gc_filenames in zip(dirnames, gc_fname_lists): # 폴더-파일  \n",
        "        print('  checking \\'' + dname + '\\'') # dirname = capture_*\n",
        "        if len(gc_filenames) != graycode.getNumberOfPatternImages() + 2:\n",
        "            print('Error : invalid number of images in \\'' + dname + '\\'')\n",
        "            return None \n",
        "            # graycode.getNumberOfPatternImages() = 48. 2를 더해서 50이 아닐 경우 에러내라. \n",
        "\n",
        "        imgs = []\n",
        "        _imgpoints = []\n",
        "\n",
        "        for fname in gc_filenames: # 각 graycode_*\n",
        "            # img = cv2.imread(fname, cv2.IMREAD_GRAYSCALE) # graycode_*를 흑백 모드에서 이미지 로드. 채널 하나구나.       \n",
        "            img = cv2.imread(fname)\n",
        "            # 앞에 _를 붙힌 변수는 image point들을 camera calibration과 동일하게 설정하려 임의로 추가한 코드임다. \n",
        "            # _gray = cv2.cvtColor(img, cv2.COLOR_BGR2GRAY)\n",
        "            _gray = cv2.imread(fname, cv2.IMREAD_GRAYSCALE)\n",
        "\n",
        "            _ret, _corners = cv2.findChessboardCorners(_gray, (10, 7), None)\n",
        "            if _ret == True:\n",
        "              _corners2 = cv2.cornerSubPix(_gray, _corners, (11, 11), (-1, -1), (cv2.TERM_CRITERIA_EPS + cv2.TERM_CRITERIA_MAX_ITER, 30, 0.001))\n",
        "              _imgpoints.append(_corners2)\n",
        "\n",
        "            if cam_shape != img.shape: # cam_shape = (1600, 2400, 3)\n",
        "                print('Error : image size of \\'' + fname + '\\' is mismatch')\n",
        "                return None # 흑백 모드에서 로드한 이미지가 (1600, 2400)의 사이즈를 갖지 않으면 에러내라.\n",
        "                # gray scale로 하면 shape이 바뀜.  \n",
        "\n",
        "            #imgs.append(img) # 빈 리스트에 img(graycode_*)를 연쇄적으로 추가함.  \n",
        "            imgs.append(_gray)\n",
        "\n",
        "        black_img = imgs.pop() #imgs.pop() # graycode_49를 black_img로 지정함. 대다수의 0을 가진 매트릭스. graycode_49는 프로젝터에서 검정색 화면만 쏜 것임. \n",
        "        white_img = imgs.pop() #imgs.pop() # graycode_48을 white_img로 지정함. 37~60을 가진 매트릭스. graycode_48은 프로젝터에서 하얀색 화면만 쏜 것임.\n",
        "        # pop() 2회를 통해 imgs에는 48장의 이미지만이 남음.  \n",
        "        # cv2_imshow(white_img)를 통해 black_img와 white_img를 확인할 수 있다. \n",
        "        \n",
        "        res, cam_corners = cv2.findChessboardCorners(white_img, chess_shape) # white_img를 통해 체스보드판의 코너들을 찾아낸다. \n",
        "        #_white_img = cv2.drawChessboardCorners(white_img, (10, 7), cam_corners, res) # 코너들을 그림으로 그림. -> 이거로 RMS 감소함. 이유는 모름. \n",
        "        #cv2_imshow(_white_img)\n",
        "        #_corners2 = cv2.cornerSubPix(white_img, cam_corners, (11, 11), (-1, -1), (cv2.TERM_CRITERIA_EPS + cv2.TERM_CRITERIA_MAX_ITER, 30, 0.001)) \n",
        "\n",
        "        if not res: # res는 코너점들을 찾았는지 알려줌. \n",
        "            print('Error : chessboard was not found in \\'' +\n",
        "                  gc_filenames[-2] + '\\'')  \n",
        "            return None\n",
        "\n",
        "        cam_objps_list.append(objps) # 카메라 object들을 모아놓음. \n",
        "        cam_corners_list.append(cam_corners) # 카메라 코너들을 모아놓음. \n",
        "        _cam_corners_list.append(_corners2) \n",
        "\n",
        "        # procam calibration을 본격화하려는 모양. \n",
        "        # 위에서 정의한 proj_corners_list = [], proj_objps_list = [] 이 두 변수와 아래 변수들이 뭐가 다른지 생각 좀 해야할 듯. \n",
        "        proj_objps = []\n",
        "        proj_corners = []\n",
        "        cam_corners2 = []\n",
        "\n",
        "        # viz_proj_points = np.zeros(proj_shape, np.uint8)\n",
        "        for corner, objp in zip(cam_corners, objps): # 코너들 - object들   \n",
        "            c_x = int(round(corner[0][0])) # round 함수는 반올림. c_x는 코너(1).\n",
        "            c_y = int(round(corner[0][1])) # c_y는 코너(2).\n",
        "            src_points = []\n",
        "            dst_points = []\n",
        "            for dx in range(-patch_size_half, patch_size_half + 1): # -14~15. 29만큼, path_size만큼 for문이 돌아감. \n",
        "                for dy in range(-patch_size_half, patch_size_half + 1):\n",
        "                    x = c_x + dx \n",
        "                    y = c_y + dy\n",
        "                    # 최소 196개의 (x,y) 좌표를 가져와야 ok. \n",
        "\n",
        "                    # white_img[y, x]는 (y, x) 지점의 픽셀값을 보여줌. \n",
        "                    if int(white_img[y, x]) - int(black_img[y, x]) <= black_thr: # white_img, black_img의 (x, y) 지점에서 차이를 구할 때 그 픽셀값이 black_thr = 40보다 작으면 okay. \n",
        "                        continue # 그 차이가 40보다 작아야지 (x, y) 좌표를 가져올 수 있는 건데 capture_1의 경우 그 차이가 40보다 큰 것임. \n",
        "\n",
        "                    err, proj_pix = graycode.getProjPixel(imgs, x, y) # projector 관련.\n",
        "\n",
        "                    if not err:\n",
        "                        src_points.append((x, y)) # src_points에 (x, y) 값들이 기록되는 것임.   \n",
        "                        dst_points.append(gc_step*np.array(proj_pix)) # 보류. \n",
        "            if len(src_points) < patch_size_half**2: # path_size_half**2 = 196. (x, y)가 모여서 196개는 나와야 하는데 (x, y)가 덜 모이면 에러가 발생하는 것임.  \n",
        "                print(\n",
        "                    '    Warning : corner', c_x, c_y,\n",
        "                    'was skiped because decoded pixels were too few (check your images and threasholds)') # 디코드된 값이 너무 적다고.\n",
        "                continue\n",
        "            h_mat, inliers = cv2.findHomography(\n",
        "                np.array(src_points), np.array(dst_points))\n",
        "            point = h_mat@np.array([corner[0][0], corner[0][1], 1]).transpose()\n",
        "            point_pix = point[0:2]/point[2]\n",
        "            proj_objps.append(objp)\n",
        "            proj_corners.append([point_pix])\n",
        "            cam_corners2.append(corner)\n",
        "            # viz_proj_points[int(round(point_pix[1])),\n",
        "            #                 int(round(point_pix[0]))] = 255\n",
        "\n",
        "        if len(proj_corners) < 3:\n",
        "            print('Error : too few corners were found in \\'' +\n",
        "                  dname + '\\' (less than 3)')\n",
        "            return None\n",
        "        proj_objps_list.append(np.float32(proj_objps))\n",
        "        proj_corners_list.append(np.float32(proj_corners))\n",
        "        cam_corners_list2.append(np.float32(cam_corners2))\n",
        "        # cv2.imwrite('visualize_corners_projector_' +\n",
        "        #             str(cnt) + '.png', viz_proj_points)\n",
        "        # cnt += 1\n",
        "\n",
        "    print('Initial solution of camera\\'s intrinsic parameters')\n",
        "    cam_rvecs = []\n",
        "    cam_tvecs = []\n",
        "    if(camP is None):\n",
        "        ret, cam_int, cam_dist, cam_rvecs, cam_tvecs = cv2.calibrateCamera(\n",
        "            cam_objps_list, _cam_corners_list, _gray.shape[::-1], None, None, None, None) # cam_shape -> _gray.shape[::-1]\n",
        "        print('  RMS :', ret)\n",
        "    else:\n",
        "        for objp, corners in zip(cam_objps_list, _cam_corners_list):##\n",
        "            ret, cam_rvec, cam_tvec = cv2.solvePnP(objp, corners, camP, camD) \n",
        "            cam_rvecs.append(cam_rvec)\n",
        "            cam_tvecs.append(cam_tvec)\n",
        "            print('  RMS :', ret)\n",
        "        cam_int = camP\n",
        "        cam_dist = camD\n",
        "    print('  Intrinsic parameters :')\n",
        "    printNumpyWithIndent(cam_int, '    ')\n",
        "    print('  Distortion parameters :')\n",
        "    printNumpyWithIndent(cam_dist, '    ')\n",
        "    print()\n",
        "\n",
        "    print('Initial solution of projector\\'s parameters')\n",
        "    ret, proj_int, proj_dist, proj_rvecs, proj_tvecs = cv2.calibrateCamera(\n",
        "        proj_objps_list, proj_corners_list, proj_shape, None, None, None, None)\n",
        "    \n",
        "    print('  RMS :', ret)\n",
        "    print('  Intrinsic parameters :')\n",
        "    printNumpyWithIndent(proj_int, '    ')\n",
        "    print('  Distortion parameters :')\n",
        "    printNumpyWithIndent(proj_dist, '    ')\n",
        "    print()\n",
        "\n",
        "    print('=== Result ===')\n",
        "    ret, cam_int, cam_dist, proj_int, proj_dist, cam_proj_rmat, cam_proj_tvec, E, F = cv2.stereoCalibrate(\n",
        "        proj_objps_list, cam_corners_list2, proj_corners_list, cam_int, cam_dist, proj_int, proj_dist, None)\n",
        "    print('  RMS :', ret)\n",
        "    print('  Camera intrinsic parameters :')\n",
        "    printNumpyWithIndent(cam_int, '    ')\n",
        "    print('  Camera distortion parameters :')\n",
        "    printNumpyWithIndent(cam_dist, '    ')\n",
        "    print('  Projector intrinsic parameters :')\n",
        "    printNumpyWithIndent(proj_int, '    ')\n",
        "    print('  Projector distortion parameters :')\n",
        "    printNumpyWithIndent(proj_dist, '    ')\n",
        "    print('  Rotation matrix / translation vector from camera to projector')\n",
        "    print('  (they translate points from camera coord to projector coord) :')\n",
        "    printNumpyWithIndent(cam_proj_rmat, '    ')\n",
        "    printNumpyWithIndent(cam_proj_tvec, '    ')\n",
        "    print()\n",
        "\n",
        "    fs = cv2.FileStorage('calibration_result.xml', cv2.FILE_STORAGE_WRITE)\n",
        "    fs.write('img_shape', cam_shape)\n",
        "    fs.write('rms', ret)\n",
        "    fs.write('cam_int', cam_int)\n",
        "    fs.write('cam_dist', cam_dist)\n",
        "    fs.write('proj_int', proj_int)\n",
        "    fs.write('proj_dist', proj_dist)\n",
        "    fs.write('roration', cam_proj_rmat)\n",
        "    fs.write('translation', cam_proj_tvec)\n",
        "    fs.release()\n",
        "\n"
      ],
      "execution_count": 0,
      "outputs": []
    },
    {
      "cell_type": "code",
      "metadata": {
        "id": "HLhNgQG0ideC",
        "colab_type": "code",
        "colab": {}
      },
      "source": [
        "path = Path('/content/gdrive/My Drive/danbi-project/real_data_200508')\n",
        "#%cd /content/gdrive/My\\ Drive/procam-calibration/sample_data\n",
        "# !pwd # show me the current working directory"
      ],
      "execution_count": 0,
      "outputs": []
    },
    {
      "cell_type": "code",
      "metadata": {
        "id": "4_kSQr0aieww",
        "colab_type": "code",
        "outputId": "adf6090d-2690-4142-ddec-e5790b6559e1",
        "colab": {
          "base_uri": "https://localhost:8080/",
          "height": 35
        }
      },
      "source": [
        "cd /content/gdrive/\"My Drive\"/danbi-project/real_data_200508"
      ],
      "execution_count": 10,
      "outputs": [
        {
          "output_type": "stream",
          "text": [
            "/content/gdrive/My Drive/danbi-project/real_data_200508\n"
          ],
          "name": "stdout"
        }
      ]
    },
    {
      "cell_type": "code",
      "metadata": {
        "id": "XLlC_3SxxYbf",
        "colab_type": "code",
        "outputId": "f87676d4-e860-4a9a-cc9f-9e4b94155f42",
        "colab": {
          "base_uri": "https://localhost:8080/",
          "height": 35
        }
      },
      "source": [
        "len([(1,2),(3,4)])"
      ],
      "execution_count": 11,
      "outputs": [
        {
          "output_type": "execute_result",
          "data": {
            "text/plain": [
              "2"
            ]
          },
          "metadata": {
            "tags": []
          },
          "execution_count": 11
        }
      ]
    },
    {
      "cell_type": "code",
      "metadata": {
        "id": "GuvOaaKa3ZqH",
        "colab_type": "code",
        "colab": {}
      },
      "source": [
        "from google.colab.patches import cv2_imshow"
      ],
      "execution_count": 0,
      "outputs": []
    },
    {
      "cell_type": "code",
      "metadata": {
        "id": "cwskTraAigIh",
        "colab_type": "code",
        "outputId": "0b558e85-5f18-4268-fc36-37fec81b38c7",
        "colab": {
          "base_uri": "https://localhost:8080/",
          "height": 1000
        }
      },
      "source": [
        "proj_height = 2160 # 변경 불가\n",
        "proj_width = 3840 # 변경 불가\n",
        "chess_rows = 10 # 변경 불가\n",
        "chess_cols = 7 # 변경 불가 \n",
        "chess_block_size = 68 # 뭘로 바꿔도 똑같은 듯. \n",
        "graycode_step = 1\n",
        "black_thr = 40\n",
        "white_thr = 1\n",
        "camera =  \"\"\n",
        "\n",
        "main(proj_height, proj_width, chess_rows, chess_cols, chess_block_size,\n",
        "    graycode_step, black_thr, white_thr,  camera)"
      ],
      "execution_count": 13,
      "outputs": [
        {
          "output_type": "stream",
          "text": [
            "Searching input files ...\n",
            " './capture_0' was found\n",
            " './capture_1' was found\n",
            " './capture_10' was found\n",
            " './capture_11' was found\n",
            " './capture_2' was found\n",
            " './capture_3' was found\n",
            " './capture_4' was found\n",
            " './capture_5' was found\n",
            " './capture_6' was found\n",
            " './capture_7' was found\n",
            " './capture_8' was found\n",
            " './capture_9' was found\n",
            "Calibrating ...\n",
            "  patch size : 29\n",
            "  checking './capture_0'\n",
            "  checking './capture_1'\n",
            "    Warning : corner 1299 635 was skiped because decoded pixels were too few (check your images and threasholds)\n",
            "  checking './capture_10'\n",
            "    Warning : corner 1215 645 was skiped because decoded pixels were too few (check your images and threasholds)\n",
            "  checking './capture_11'\n",
            "  checking './capture_2'\n",
            "  checking './capture_3'\n",
            "  checking './capture_4'\n",
            "  checking './capture_5'\n",
            "  checking './capture_6'\n",
            "  checking './capture_7'\n",
            "  checking './capture_8'\n",
            "  checking './capture_9'\n",
            "Initial solution of camera's intrinsic parameters\n",
            "  RMS : 0.8638958679350631\n",
            "  Intrinsic parameters :\n",
            "    [[1.85699027e+03 0.00000000e+00 1.20476406e+03]\n",
            "     [0.00000000e+00 1.88164563e+03 1.01301109e+03]\n",
            "     [0.00000000e+00 0.00000000e+00 1.00000000e+00]]\n",
            "  Distortion parameters :\n",
            "    [[ 9.07614383e-02 -2.37839032e+00  2.14937510e-02 -9.72549130e-04\n",
            "       6.22728377e+00]]\n",
            "\n",
            "Initial solution of projector's parameters\n",
            "  RMS : 0.48918977968013816\n",
            "  Intrinsic parameters :\n",
            "    [[3.28935559e+03 0.00000000e+00 1.91148354e+03]\n",
            "     [0.00000000e+00 3.28777045e+03 1.13065499e+03]\n",
            "     [0.00000000e+00 0.00000000e+00 1.00000000e+00]]\n",
            "  Distortion parameters :\n",
            "    [[-1.11077507e-01  3.71359730e-01 -1.10273266e-03  2.89491322e-03\n",
            "      -1.13109496e+01]]\n",
            "\n",
            "=== Result ===\n",
            "  RMS : 0.7565432656457645\n",
            "  Camera intrinsic parameters :\n",
            "    [[1.85699027e+03 0.00000000e+00 1.20476406e+03]\n",
            "     [0.00000000e+00 1.88164563e+03 1.01301109e+03]\n",
            "     [0.00000000e+00 0.00000000e+00 1.00000000e+00]]\n",
            "  Camera distortion parameters :\n",
            "    [[ 9.07614383e-02 -2.37839032e+00  2.14937510e-02 -9.72549130e-04\n",
            "       6.22728377e+00]]\n",
            "  Projector intrinsic parameters :\n",
            "    [[3.28935559e+03 0.00000000e+00 1.91148354e+03]\n",
            "     [0.00000000e+00 3.28777045e+03 1.13065499e+03]\n",
            "     [0.00000000e+00 0.00000000e+00 1.00000000e+00]]\n",
            "  Projector distortion parameters :\n",
            "    [[-1.11077507e-01  3.71359730e-01 -1.10273266e-03  2.89491322e-03\n",
            "      -1.13109496e+01]]\n",
            "  Rotation matrix / translation vector from camera to projector\n",
            "  (they translate points from camera coord to projector coord) :\n",
            "    [[-0.99930422  0.02275189  0.02955377]\n",
            "     [-0.00930396 -0.91940374  0.39320503]\n",
            "     [ 0.036118    0.39265648  0.91897572]]\n",
            "    [[   35.28428316]\n",
            "     [-1181.32946597]\n",
            "     [  617.39731909]]\n",
            "\n"
          ],
          "name": "stdout"
        }
      ]
    }
  ]
}
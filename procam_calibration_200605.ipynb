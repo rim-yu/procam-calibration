{
  "nbformat": 4,
  "nbformat_minor": 0,
  "metadata": {
    "colab": {
      "name": "procam-calibration_200605.ipynb",
      "provenance": [],
      "collapsed_sections": [],
      "mount_file_id": "1R-NYBU9azwLqSI8lVQcREMxurL2LZhKI",
      "authorship_tag": "ABX9TyNpLRgmI/w3bQVRLkXxEstQ",
      "include_colab_link": true
    },
    "kernelspec": {
      "name": "python3",
      "display_name": "Python 3"
    }
  },
  "cells": [
    {
      "cell_type": "markdown",
      "metadata": {
        "id": "view-in-github",
        "colab_type": "text"
      },
      "source": [
        "<a href=\"https://colab.research.google.com/github/rim-yu/procam-calibration/blob/master/procam_calibration_200605.ipynb\" target=\"_parent\"><img src=\"https://colab.research.google.com/assets/colab-badge.svg\" alt=\"Open In Colab\"/></a>"
      ]
    },
    {
      "cell_type": "code",
      "metadata": {
        "id": "635aMJnsiLQy",
        "colab_type": "code",
        "colab": {
          "base_uri": "https://localhost:8080/",
          "height": 55
        },
        "outputId": "a001f8e6-4fb6-4c3a-e0cd-2d82f535da75"
      },
      "source": [
        "%reload_ext autoreload\n",
        "%autoreload 2\n",
        "%matplotlib inline\n",
        "\n",
        "%xmode Verbose\n",
        "%pdb on"
      ],
      "execution_count": null,
      "outputs": [
        {
          "output_type": "stream",
          "text": [
            "Exception reporting mode: Verbose\n",
            "Automatic pdb calling has been turned ON\n"
          ],
          "name": "stdout"
        }
      ]
    },
    {
      "cell_type": "code",
      "metadata": {
        "id": "sueX8qH_iMcD",
        "colab_type": "code",
        "colab": {}
      },
      "source": [
        "import os\n",
        "import os.path\n",
        "from pathlib import Path\n",
        "#cf: https://treyhunner.com/2018/12/why-you-should-be-using-pathlib/\n",
        "import glob\n",
        "import argparse\n",
        "import cv2\n",
        "import numpy as np\n",
        "import json\n",
        "from matplotlib import pyplot as plt "
      ],
      "execution_count": null,
      "outputs": []
    },
    {
      "cell_type": "code",
      "metadata": {
        "id": "oziZ11CniOHY",
        "colab_type": "code",
        "colab": {}
      },
      "source": [
        "def main(proj_height, proj_width, chess_rows, chess_cols, chess_block_size,\n",
        "    graycode_step, black_thr, white_thr,  camera):\n",
        "  \n",
        "# 2160 - 3840 - 10 - 7 - 68 - 1 - 40 - 5 - \"\"\n",
        "\n",
        "    proj_shape = (proj_height, proj_width) # (2160, 3840)\n",
        "    chess_shape = (chess_rows, chess_cols) # (10, 7)\n",
        "    chess_block_size = chess_block_size # chess_block_size = 68 mm\n",
        "    gc_step = graycode_step # gc_step = 1\n",
        "    black_thr = black_thr # 40\n",
        "    white_thr = white_thr # 5\n",
        "    camera_param_file = camera # \"\"\n",
        "\n",
        "    dirnames = sorted(glob.glob('./capture_*'))\n",
        "    if len(dirnames) == 0: # capture_* 형식으로 된 폴더가 없을 경우 error 뱉음. \n",
        "        print('Directories \\'./capture_*\\' were not found')\n",
        "        return\n",
        "\n",
        "    print('Searching input files ...') # capture_* 형식으로 된 폴더가 있을 경우 파일들을 찾음. \n",
        "    used_dirnames = [] \n",
        "    gc_fname_lists = [] # 파일 이름 리스트. \n",
        "    for dname in dirnames: # capture_* 폴더 돌림. * = 1->4\n",
        "        #gc_fnames = sorted(glob.glob(dname + '/graycode_*')) # graycode_* 파일들 가져옴. \n",
        "        gc_fnames = sorted(glob.glob(dname + '/graycode*'))\n",
        "        if len(gc_fnames) == 0:  \n",
        "            continue\n",
        "        used_dirnames.append(dname) # capture_* 폴더가 순차적으로 붙음. \n",
        "        gc_fname_lists.append(gc_fnames) # 파일 이름 리스트. graycode_*가 붙음. * = 00->49\n",
        "        print(' \\'' + dname + '\\' was found') # 폴더 찾았당. \n",
        "\n",
        "    camP = None # ?\n",
        "    cam_dist = None # ? \n",
        "    path, ext = os.path.splitext(camera_param_file) # camera_param_file = \"\", 파일 이름을 확장자로부터 쪼개줌. \n",
        "    if(ext == \".json\"): # 확장자명. \n",
        "        camP, cam_dist = loadCameraParam(camera_param_file) # 카메라 파라미터 저장된 json 파일 가져옴. \n",
        "        print('load camera parameters')\n",
        "        print(camP)\n",
        "        print(cam_dist)\n",
        "\n",
        "    calibrate(used_dirnames, gc_fname_lists,\n",
        "              proj_shape, chess_shape, chess_block_size, gc_step, black_thr, white_thr,\n",
        "               camP, cam_dist) \n",
        "    # calibrate 함수 쓰는데, capture_* 폴더명들, graycode_* 파일명들, 그외 각종 변수들 + camP, cam_dist "
      ],
      "execution_count": null,
      "outputs": []
    },
    {
      "cell_type": "code",
      "metadata": {
        "id": "stpgd8rmiWM6",
        "colab_type": "code",
        "colab": {}
      },
      "source": [
        "def printNumpyWithIndent(tar, indentchar):\n",
        "    print(indentchar + str(tar).replace('\\n', '\\n' + indentchar))  "
      ],
      "execution_count": null,
      "outputs": []
    },
    {
      "cell_type": "code",
      "metadata": {
        "id": "59yTKzzTiYKQ",
        "colab_type": "code",
        "colab": {}
      },
      "source": [
        "def loadCameraParam(json_file):\n",
        "    with open(json_file, 'r') as f:\n",
        "        param_data = json.load(f)\n",
        "        P = param_data['camera']['P']\n",
        "        d = param_data['camera']['distortion']\n",
        "        return np.array(P).reshape([3,3]), np.array(d) # ok "
      ],
      "execution_count": null,
      "outputs": []
    },
    {
      "cell_type": "code",
      "metadata": {
        "id": "ybb9u2NciZah",
        "colab_type": "code",
        "colab": {}
      },
      "source": [
        "def calibrate(dirnames, gc_fname_lists, proj_shape, chess_shape, chess_block_size, gc_step, black_thr, white_thr, camP, camD):\n",
        "# proj_shape = (2160, 3840) chess_shape = (10, 7)    \n",
        "\n",
        "    # (1) object points\n",
        "    objps = np.zeros((chess_shape[0]*chess_shape[1], 3), np.float32) \n",
        "    # object points. 70행 3열 2차원 배열이 나타남. \n",
        "    objps[:, :2] = chess_block_size * \\\n",
        "        np.mgrid[0:chess_shape[0], 0:chess_shape[1]].T.reshape(-1, 2)\n",
        "        # [[0,0], ..., [9,0], ..., [9,9]] 이렇게 바뀜. \n",
        "        # 모든 행 2열 전까지. 즉 열 2개만. 3열은 0만.\n",
        "        # ok\n",
        "\n",
        "    # (2) projector size -> gray code \n",
        "    print('Calibrating ...') # 계산중임다. \n",
        "    gc_height = int((proj_shape[0]-1)/gc_step)+1 # 2160. \n",
        "    gc_width = int((proj_shape[1]-1)/gc_step)+1 # 3840. \n",
        "\n",
        "##### 이 부분이 \n",
        "    graycode = cv2.structured_light_GrayCodePattern.create(\n",
        "        gc_width, gc_height) # 3840 * 2160 -> 이거로 50장 만들어내는 듯.\n",
        "    graycode.setBlackThreshold(black_thr)  \n",
        "    graycode.setWhiteThreshold(white_thr) \n",
        "##### 이해가 잘 안가요.  \n",
        "\n",
        "    # (3) graycode_* size, patch_size \n",
        "    cam_shape = cv2.imread(gc_fname_lists[0][0], cv2.IMREAD_GRAYSCALE).shape \n",
        "    # cam_shape = cv2.imread(gc_fname_lists[0][0]).shape\n",
        "    # 이미지 읽기. gc_fname_lists[0][0] = graycode_00\n",
        "    # gc_fname_list 보니 맨 첫 원소는 [capture_0, graycode_00]임. \n",
        "    # cam_shape = 1600*2400 \n",
        "    patch_size_half = int(np.ceil(cam_shape[1] / 180)) # np.ceil 하면 그 값들이 '올림'된다. cam_shape = (1600, 2400)임. 왜 이건지 모르겠다. 14\n",
        "    # patch_size_half = int(np.ceil(cam_shape[1] / 270)) # 이렇게 하면 RMS가 5로 떨어지긴 하는데 카메라 내부 파라미터는 완전히 달라서 의미가 없을 듯.   \n",
        "    print('  patch size :', patch_size_half * 2 + 1) # 29\n",
        "\n",
        "    cam_corners_list = [] # 카메라 코너들을 모을 예정. \n",
        "    cam_objps_list = [] # 카메라 object들을 모을 예정. \n",
        "    cam_corners_list2 = [] # 보류\n",
        "    _cam_corners_list = [] \n",
        "\n",
        "    proj_corners_list = [] # 프로젝터 코너들을 모을 예정\n",
        "    proj_objps_list = [] # 프로젝터 object들을 모을 예정 \n",
        "    \n",
        "    # (4) dirnames = capture_*, gc_fname_lists = graycode_*\n",
        "    for dname, gc_filenames in zip(dirnames, gc_fname_lists): # 폴더-파일  \n",
        "        print('  checking \\'' + dname + '\\'') # dirname = capture_*\n",
        "        if len(gc_filenames) != graycode.getNumberOfPatternImages() + 2:\n",
        "            print('Error : invalid number of images in \\'' + dname + '\\'')\n",
        "            return None \n",
        "            # graycode.getNumberOfPatternImages() = 48. 2를 더해서 50이 아닐 경우 에러내라. \n",
        "\n",
        "        imgs = []\n",
        "        _imgpoints = []\n",
        "\n",
        "        for fname in gc_filenames: # 각 graycode_*\n",
        "            img = cv2.imread(fname)\n",
        "            # img = cv2.imread(fname, cv2.IMREAD_GRAYSCALE) # graycode_*를 흑백 모드에서 이미지 로드. 채널 하나구나.       \n",
        "            # 앞에 _를 붙힌 변수는 image point들을 camera calibration과 동일하게 설정하려 임의로 추가한 코드임다. \n",
        "            # _gray = cv2.cvtColor(img, cv2.COLOR_BGR2GRAY)\n",
        "            _gray = cv2.imread(fname, cv2.IMREAD_GRAYSCALE)\n",
        "\n",
        "            if cam_shape != _gray.shape: # (원래) img.shape: # cam_shape = (1600, 2400, 3)\n",
        "                print('Error : image size of \\'' + fname + '\\' is mismatch')\n",
        "                return None # 흑백 모드에서 로드한 이미지가 (1600, 2400)의 사이즈를 갖지 않으면 에러내라.\n",
        "                # gray scale로 하면 shape이 바뀜.  \n",
        "\n",
        "            #imgs.append(img) # 빈 리스트에 img(graycode_*)를 연쇄적으로 추가함.  \n",
        "            imgs.append(_gray)\n",
        "\n",
        "        black_img = imgs.pop() #imgs.pop() # graycode_49를 black_img로 지정함. 대다수의 0을 가진 매트릭스. graycode_49는 프로젝터에서 검정색 화면만 쏜 것임. \n",
        "        white_img = imgs.pop() #imgs.pop() # graycode_48을 white_img로 지정함. 37~60을 가진 매트릭스. graycode_48은 프로젝터에서 하얀색 화면만 쏜 것임.\n",
        "        # pop() 2회를 통해 imgs에는 48장의 이미지만이 남음.  \n",
        "        # cv2_imshow(white_img)를 통해 black_img와 white_img를 확인할 수 있다. \n",
        "\n",
        "        # 원래 코드 \n",
        "        res, cam_corners = cv2.findChessboardCorners(white_img, chess_shape) # white_img를 통해 체스보드판의 코너들을 찾아낸다. \n",
        "        \n",
        "        if not res: # res는 코너점들을 찾았는지 알려줌. \n",
        "            print('Error : chessboard was not found in \\'' +\n",
        "                  gc_filenames[-2] + '\\'')  \n",
        "            return None\n",
        "\n",
        "        # 수정한 코드 \n",
        "        # _ret, _corners = cv2.findChessboardCorners(_gray, (10, 7), None)\n",
        "        _ret, _corners = cv2.findChessboardCorners(white_img, (10, 7), None)\n",
        "\n",
        "        if _ret == True:\n",
        "            _corners2 = cv2.cornerSubPix(white_img, _corners, (11, 11), (-1, -1), (cv2.TERM_CRITERIA_EPS + cv2.TERM_CRITERIA_MAX_ITER, 30, 0.001))\n",
        "            _imgpoints.append(_corners2)\n",
        "\n",
        "        #_ChessboardCorners = cv2.drawChessboardCorners(img, (10, 7), _corners2, _ret) \n",
        "        #if dname == \"./capture_00\" :\n",
        "        #    plt.figure(figsize=(30, 30))\n",
        "        #    plt.imshow(_ChessboardCorners)\n",
        "        #    plt.axis(\"off\")\n",
        "        #    plt.show()\n",
        "\n",
        "        cam_objps_list.append(objps) # 카메라 object들을 모아놓음. \n",
        "        cam_corners_list.append(cam_corners) # 카메라 코너들을 모아놓음. \n",
        "        _cam_corners_list.append(_corners2) \n",
        "\n",
        "        # procam calibration을 본격화하려는 모양. \n",
        "        # 위에서 정의한 proj_corners_list = [], proj_objps_list = [] 이 두 변수와 아래 변수들이 뭐가 다른지 생각 좀 해야할 듯. \n",
        "        proj_objps = []\n",
        "        proj_corners = []\n",
        "        cam_corners2 = []\n",
        "\n",
        "        # viz_proj_points = np.zeros(proj_shape, np.uint8)\n",
        "        for corner, objp in zip(cam_corners, objps): # 코너들 - object들   \n",
        "            c_x = int(round(corner[0][0])) # round 함수는 반올림. c_x는 코너(1).\n",
        "            c_y = int(round(corner[0][1])) # c_y는 코너(2).\n",
        "            src_points = []\n",
        "            dst_points = []\n",
        "            for dx in range(-patch_size_half, patch_size_half + 1): # -14~15. 29만큼, path_size만큼 for문이 돌아감. \n",
        "                for dy in range(-patch_size_half, patch_size_half + 1):\n",
        "                    x = c_x + dx \n",
        "                    y = c_y + dy\n",
        "                    # 최소 196개의 (x,y) 좌표를 가져와야 ok. \n",
        "\n",
        "                    # white_img[y, x]는 (y, x) 지점의 픽셀값을 보여줌. \n",
        "                    if int(white_img[y, x]) - int(black_img[y, x]) <= black_thr: # white_img, black_img의 (x, y) 지점에서 차이를 구할 때 그 픽셀값이 black_thr = 40보다 작으면 okay. \n",
        "                        continue # 그 차이가 40보다 작아야지 (x, y) 좌표를 가져올 수 있는 건데 capture_1의 경우 그 차이가 40보다 큰 것임. \n",
        "\n",
        "                    err, proj_pix = graycode.getProjPixel(imgs, x, y) # projector 관련.\n",
        "\n",
        "                    if not err:\n",
        "                        src_points.append((x, y)) # src_points에 (x, y) 값들이 기록되는 것임.   \n",
        "                        dst_points.append(gc_step*np.array(proj_pix)) # 보류. \n",
        "            if len(src_points) < patch_size_half**2: # path_size_half**2 = 196. (x, y)가 모여서 196개는 나와야 하는데 (x, y)가 덜 모이면 에러가 발생하는 것임.  \n",
        "                print(\n",
        "                    '    Warning : corner', c_x, c_y,\n",
        "                    'was skiped because decoded pixels were too few (check your images and threasholds)') # 디코드된 값이 너무 적다고.\n",
        "                continue\n",
        "            h_mat, inliers = cv2.findHomography(\n",
        "                np.array(src_points), np.array(dst_points))\n",
        "            point = h_mat@np.array([corner[0][0], corner[0][1], 1]).transpose()\n",
        "            point_pix = point[0:2]/point[2]\n",
        "            proj_objps.append(objp)\n",
        "            proj_corners.append([point_pix])\n",
        "            cam_corners2.append(corner)\n",
        "            # viz_proj_points[int(round(point_pix[1])),\n",
        "            #                 int(round(point_pix[0]))] = 255\n",
        "\n",
        "        if len(proj_corners) < 3:\n",
        "            print('Error : too few corners were found in \\'' +\n",
        "                  dname + '\\' (less than 3)')\n",
        "            return None\n",
        "        proj_objps_list.append(np.float32(proj_objps))\n",
        "        proj_corners_list.append(np.float32(proj_corners))\n",
        "        cam_corners_list2.append(np.float32(cam_corners2))\n",
        "        # cv2.imwrite('visualize_corners_projector_' +\n",
        "        #             str(cnt) + '.png', viz_proj_points)\n",
        "        # cnt += 1\n",
        "\n",
        "    print('Initial solution of camera\\'s intrinsic parameters')\n",
        "    cam_rvecs = []\n",
        "    cam_tvecs = []\n",
        "    if(camP is None):\n",
        "        ret, cam_int, cam_dist, cam_rvecs, cam_tvecs = cv2.calibrateCamera(\n",
        "            cam_objps_list, _cam_corners_list, _gray.shape[::-1], None, None, None, None) # cam_shape -> _gray.shape[::-1]\n",
        "        print('  RMS :', ret)\n",
        "    else:\n",
        "        for objp, corners in zip(cam_objps_list, _cam_corners_list):##\n",
        "            ret, cam_rvec, cam_tvec = cv2.solvePnP(objp, corners, camP, camD) # 외부 파라미터 구하는 함수.  \n",
        "            cam_rvecs.append(cam_rvec)\n",
        "            cam_tvecs.append(cam_tvec)\n",
        "            print('  RMS :', ret)\n",
        "        cam_int = camP\n",
        "        cam_dist = camD\n",
        "    print('  Intrinsic parameters :')\n",
        "    printNumpyWithIndent(cam_int, '    ')\n",
        "    print('  Distortion parameters :')\n",
        "    printNumpyWithIndent(cam_dist, '    ')\n",
        "    cam_rotation_matrix = np.zeros(shape=(3, 3))\n",
        "    cv2.Rodrigues(cam_rvecs[0], cam_rotation_matrix) \n",
        "    # Rodrigues로 표현된(3*1) R vectors를 3*3으로 표현하기 위함.\n",
        "    # 체스보드를 바닥에 딱 붙힌 capture_00에 대해서 rotation vector를 구하겠음.  \n",
        "    print('  cam_rvecs_capture_00 :')\n",
        "    printNumpyWithIndent(cam_rotation_matrix, '    ')\n",
        "    print('  cam_tvecs_capture_00 :')\n",
        "    printNumpyWithIndent(cam_tvecs[0], '    ')\n",
        "    print()\n",
        "\n",
        "    print('Initial solution of projector\\'s parameters')\n",
        "    ret, proj_int, proj_dist, proj_rvecs, proj_tvecs = cv2.calibrateCamera(\n",
        "        proj_objps_list, proj_corners_list, proj_shape, None, None, None, None)\n",
        "    \n",
        "    print('  RMS :', ret)\n",
        "    print('  Intrinsic parameters :')\n",
        "    printNumpyWithIndent(proj_int, '    ')\n",
        "    print('  Distortion parameters :')\n",
        "    printNumpyWithIndent(proj_dist, '    ')\n",
        "    proj_rotation_matrix = np.zeros(shape=(3, 3))\n",
        "    cv2.Rodrigues(proj_rvecs[0], proj_rotation_matrix) # Rodrigues로 표현된(3*1) R vectors를 3*3으로 표현하기 위함. \n",
        "    print('  proj_rvecs_capture_00 :')\n",
        "    printNumpyWithIndent(proj_rotation_matrix, '    ')\n",
        "    print('  proj_tvecs_capture_00 :')\n",
        "    printNumpyWithIndent(proj_tvecs[0], '    ') \n",
        "    print()\n",
        "\n",
        "    print('=== Result ===')\n",
        "    ret, cam_int, cam_dist, proj_int, proj_dist, cam_proj_rmat, cam_proj_tvec, E, F = cv2.stereoCalibrate(\n",
        "        proj_objps_list, cam_corners_list2, proj_corners_list, cam_int, cam_dist, proj_int, proj_dist, None)\n",
        "    print('  RMS :', ret)\n",
        "    print('  Camera intrinsic parameters :')\n",
        "    printNumpyWithIndent(cam_int, '    ')\n",
        "    print('  Camera distortion parameters :')\n",
        "    printNumpyWithIndent(cam_dist, '    ')\n",
        "    print('  Projector intrinsic parameters :')\n",
        "    printNumpyWithIndent(proj_int, '    ')\n",
        "    print('  Projector distortion parameters :')\n",
        "    printNumpyWithIndent(proj_dist, '    ')\n",
        "    print('  Rotation matrix / translation vector from camera to projector')\n",
        "    print('  (they translate points from camera coord to projector coord) :')\n",
        "    printNumpyWithIndent(cam_proj_rmat, '    ')\n",
        "    printNumpyWithIndent(cam_proj_tvec, '    ')\n",
        "    print()\n",
        "\n",
        "    fs = cv2.FileStorage('calibration_result.xml', cv2.FILE_STORAGE_WRITE)\n",
        "    fs.write('img_shape', cam_shape)\n",
        "    fs.write('rms', ret)\n",
        "    fs.write('cam_int', cam_int)\n",
        "    fs.write('cam_dist', cam_dist)\n",
        "    fs.write('proj_int', proj_int)\n",
        "    fs.write('proj_dist', proj_dist)\n",
        "    fs.write('roration', cam_proj_rmat)\n",
        "    fs.write('translation', cam_proj_tvec)\n",
        "    fs.release()\n",
        "\n"
      ],
      "execution_count": null,
      "outputs": []
    },
    {
      "cell_type": "code",
      "metadata": {
        "id": "HLhNgQG0ideC",
        "colab_type": "code",
        "colab": {}
      },
      "source": [
        "path = Path('/content/gdrive/My Drive/danbi-project/real_data_200605')\n",
        "#%cd /content/gdrive/My\\ Drive/procam-calibration/sample_data\n",
        "# !pwd # show me the current working directory"
      ],
      "execution_count": null,
      "outputs": []
    },
    {
      "cell_type": "code",
      "metadata": {
        "id": "4_kSQr0aieww",
        "colab_type": "code",
        "colab": {
          "base_uri": "https://localhost:8080/",
          "height": 36
        },
        "outputId": "cd43eddd-1af1-4fa1-d268-002accc65ca4"
      },
      "source": [
        "cd /content/drive/\"My Drive\"/danbi-project/real_data_200605"
      ],
      "execution_count": null,
      "outputs": [
        {
          "output_type": "stream",
          "text": [
            "/content/drive/My Drive/danbi-project/real_data_200605\n"
          ],
          "name": "stdout"
        }
      ]
    },
    {
      "cell_type": "code",
      "metadata": {
        "id": "U0IplQ0v3b95",
        "colab_type": "code",
        "colab": {
          "base_uri": "https://localhost:8080/",
          "height": 55
        },
        "outputId": "e2d90010-82ed-4d49-8f22-8ab7edb904f3"
      },
      "source": [
        "ls"
      ],
      "execution_count": null,
      "outputs": [
        {
          "output_type": "stream",
          "text": [
            "calibration_result.xml  \u001b[0m\u001b[01;34mcapture_1\u001b[0m/  \u001b[01;34mcapture_3\u001b[0m/   \u001b[01;34mcapture_5\u001b[0m/\n",
            "\u001b[01;34mcapture_0\u001b[0m/              \u001b[01;34mcapture_2\u001b[0m/  \u001b[01;34m_capture_4\u001b[0m/\n"
          ],
          "name": "stdout"
        }
      ]
    },
    {
      "cell_type": "code",
      "metadata": {
        "id": "GuvOaaKa3ZqH",
        "colab_type": "code",
        "colab": {}
      },
      "source": [
        "from google.colab.patches import cv2_imshow"
      ],
      "execution_count": null,
      "outputs": []
    },
    {
      "cell_type": "code",
      "metadata": {
        "id": "cwskTraAigIh",
        "colab_type": "code",
        "colab": {
          "base_uri": "https://localhost:8080/",
          "height": 1000
        },
        "outputId": "8d878496-8532-4f25-cb55-5387180d36a9"
      },
      "source": [
        "proj_height = 2160 # 변경 불가\n",
        "proj_width = 3840 # 변경 불가\n",
        "chess_rows = 10 # 변경 불가\n",
        "chess_cols = 7 # 변경 불가 \n",
        "chess_block_size = 68 # 뭘로 바꿔도 똑같은 듯. \n",
        "graycode_step = 1\n",
        "black_thr = 40\n",
        "white_thr = 1\n",
        "camera =  \"\"\n",
        "\n",
        "main(proj_height, proj_width, chess_rows, chess_cols, chess_block_size,\n",
        "    graycode_step, black_thr, white_thr,  camera)"
      ],
      "execution_count": null,
      "outputs": [
        {
          "output_type": "stream",
          "text": [
            "Searching input files ...\n",
            " './capture_0' was found\n",
            " './capture_1' was found\n",
            " './capture_2' was found\n",
            " './capture_3' was found\n",
            " './capture_5' was found\n",
            "Calibrating ...\n",
            "  patch size : 29\n",
            "  checking './capture_0'\n",
            "  checking './capture_1'\n",
            "  checking './capture_2'\n",
            "  checking './capture_3'\n",
            "  checking './capture_5'\n",
            "Initial solution of camera's intrinsic parameters\n",
            "  RMS : 1.5665573570371265\n",
            "  Intrinsic parameters :\n",
            "    [[1.92288454e+03 0.00000000e+00 1.18954599e+03]\n",
            "     [0.00000000e+00 1.92031141e+03 9.45177448e+02]\n",
            "     [0.00000000e+00 0.00000000e+00 1.00000000e+00]]\n",
            "  Distortion parameters :\n",
            "    [[-0.27791696  0.40290588  0.01531431 -0.00324072 -0.38488884]]\n",
            "  cam_rvecs_capture_00 :\n",
            "    [[ 0.99765366  0.06804745  0.007531  ]\n",
            "     [-0.06364915  0.8813591   0.46813985]\n",
            "     [ 0.02521821 -0.46752078  0.8836223 ]]\n",
            "  cam_tvecs_capture_00 :\n",
            "    [[-401.69137375]\n",
            "     [-305.18491107]\n",
            "     [1096.26402925]]\n",
            "\n",
            "Initial solution of projector's parameters\n",
            "  RMS : 0.9076496005213202\n",
            "  Intrinsic parameters :\n",
            "    [[2.87597491e+03 0.00000000e+00 2.03138471e+03]\n",
            "     [0.00000000e+00 2.87363389e+03 1.20204078e+03]\n",
            "     [0.00000000e+00 0.00000000e+00 1.00000000e+00]]\n",
            "  Distortion parameters :\n",
            "    [[-1.23745111e-01 -8.26584913e-02  7.51610155e-05  8.28977054e-03\n",
            "       4.43302944e-01]]\n",
            "  proj_rvecs_capture_00 :\n",
            "    [[-0.99983442 -0.0087632  -0.01594788]\n",
            "     [ 0.00894139 -0.99989801 -0.01113672]\n",
            "     [-0.01584866 -0.01127747  0.9998108 ]]\n",
            "  proj_tvecs_capture_00 :\n",
            "    [[ 326.22694335]\n",
            "     [ 159.83415869]\n",
            "     [1893.37003383]]\n",
            "\n",
            "=== Result ===\n",
            "  RMS : 2.148234988910775\n",
            "  Camera intrinsic parameters :\n",
            "    [[1.92288454e+03 0.00000000e+00 1.18954599e+03]\n",
            "     [0.00000000e+00 1.92031141e+03 9.45177448e+02]\n",
            "     [0.00000000e+00 0.00000000e+00 1.00000000e+00]]\n",
            "  Camera distortion parameters :\n",
            "    [[-0.27791696  0.40290588  0.01531431 -0.00324072 -0.38488884]]\n",
            "  Projector intrinsic parameters :\n",
            "    [[2.87597491e+03 0.00000000e+00 2.03138471e+03]\n",
            "     [0.00000000e+00 2.87363389e+03 1.20204078e+03]\n",
            "     [0.00000000e+00 0.00000000e+00 1.00000000e+00]]\n",
            "  Projector distortion parameters :\n",
            "    [[-1.23745111e-01 -8.26584913e-02  7.51610155e-05  8.28977054e-03\n",
            "       4.43302944e-01]]\n",
            "  Rotation matrix / translation vector from camera to projector\n",
            "  (they translate points from camera coord to projector coord) :\n",
            "    [[-0.99820069  0.04397614 -0.0407612 ]\n",
            "     [-0.05771089 -0.88910474  0.45405089]\n",
            "     [-0.01627358  0.45558628  0.89004287]]\n",
            "    [[ -14.64331615]\n",
            "     [-633.36927611]\n",
            "     [1055.26471553]]\n",
            "\n"
          ],
          "name": "stdout"
        }
      ]
    },
    {
      "cell_type": "code",
      "metadata": {
        "id": "aQtFgcLXpxkk",
        "colab_type": "code",
        "colab": {
          "base_uri": "https://localhost:8080/",
          "height": 689
        },
        "outputId": "37a6a354-7a39-47f2-d770-fc13ec4d1f68"
      },
      "source": [
        "import numpy as np\n",
        "# 폴더 5개 돌린거 \n",
        "# camera calibration 결과 총 정리. \n",
        "tvec_wc = np.array([-401.69137375, -305.18491107, 1096.26402925])\n",
        "rvec_wc = np.array([[ 0.99765366,  0.06804745,  0.007531  ],\n",
        "                    [-0.06364915,  0.8813591,   0.46813985],\n",
        "                    [ 0.02521821, -0.46752078,  0.8836223 ]])\n",
        "print(\"tvec_wc : \\n\", tvec_wc)\n",
        "print(\"rvec_wc : \\n\", rvec_wc)\n",
        "# Pc = R*Pw + T\n",
        "# Pw = R.T*Pc - R.T*T\n",
        "\n",
        "tvec_cw = -np.matmul(rvec_wc.T, tvec_wc)\n",
        "rvec_cw = rvec_wc.T\n",
        "print(\"tvec_cw : \\n\", tvec_cw)\n",
        "print(\"rvec_cw : \\n\", rvec_cw)\n",
        "\n",
        "tvec_cp = np.array([ -14.64331615, -633.36927611, 1055.26471553])\n",
        "rvec_cp = np.array([[-0.99820069,  0.04397614, -0.0407612],\n",
        "                   [-0.05771089, -0.88910474,  0.45405089],\n",
        "                   [-0.01627358,  0.45558628,  0.89004287]])\n",
        "print(\"tvec_cp : \\n\", tvec_cp)\n",
        "print(\"rvec_cp : \\n\", rvec_cp)\n",
        "\n",
        "tvec_pc = -np.matmul(rvec_cp.T, tvec_cp)\n",
        "rvec_pc = rvec_cp.T\n",
        "print(\"tvec_pc : \\n\", tvec_pc)\n",
        "print(\"rvec_pc : \\n\", rvec_pc)\n",
        "\n",
        "tvec_wp = np.array([ 326.22694335, 159.83415869, 1893.37003383])\n",
        "rvec_wp = np.array([[-0.99983442, -0.0087632,  -0.01594788],\n",
        "                   [ 0.00894139, -0.99989801, -0.01113672],\n",
        "                   [-0.01584866, -0.01127747,  0.9998108 ]])\n",
        "print(\"tvec_wp : \\n\", tvec_wp)\n",
        "print(\"rvec_wp : \\n\", rvec_wp)\n",
        "\n",
        "tvec_pw = -np.matmul(rvec_wp.T, tvec_wp)\n",
        "rvec_pw = rvec_wp.T\n",
        "print(\"tvec_pw : \\n\", tvec_pw)\n",
        "print(\"rvec_pw : \\n\", rvec_pw)"
      ],
      "execution_count": null,
      "outputs": [
        {
          "output_type": "stream",
          "text": [
            "tvec_wc : \n",
            " [-401.69137375 -305.18491107 1096.26402925]\n",
            "rvec_wc : \n",
            " [[ 0.99765366  0.06804745  0.007531  ]\n",
            " [-0.06364915  0.8813591   0.46813985]\n",
            " [ 0.02521821 -0.46752078  0.8836223 ]]\n",
            "tvec_cw : \n",
            " [ 353.67829252  808.83778627 -822.78898671]\n",
            "rvec_cw : \n",
            " [[ 0.99765366 -0.06364915  0.02521821]\n",
            " [ 0.06804745  0.8813591  -0.46752078]\n",
            " [ 0.007531    0.46813985  0.8836223 ]]\n",
            "tvec_cp : \n",
            " [ -14.64331615 -633.36927611 1055.26471553]\n",
            "rvec_cp : \n",
            " [[-0.99820069  0.04397614 -0.0407612 ]\n",
            " [-0.05771089 -0.88910474  0.45405089]\n",
            " [-0.01627358  0.45558628  0.89004287]]\n",
            "tvec_pc : \n",
            " [  -33.99633814 -1043.2517952   -652.24583164]\n",
            "rvec_pc : \n",
            " [[-0.99820069 -0.05771089 -0.01627358]\n",
            " [ 0.04397614 -0.88910474  0.45558628]\n",
            " [-0.0407612   0.45405089  0.89004287]]\n",
            "tvec_wp : \n",
            " [ 326.22694335  159.83415869 1893.37003383]\n",
            "rvec_wp : \n",
            " [[-0.99983442 -0.0087632  -0.01594788]\n",
            " [ 0.00894139 -0.99989801 -0.01113672]\n",
            " [-0.01584866 -0.01127747  0.9998108 ]]\n",
            "tvec_pw : \n",
            " [  354.75116506   184.02907291 -1886.0291518 ]\n",
            "rvec_pw : \n",
            " [[-0.99983442  0.00894139 -0.01584866]\n",
            " [-0.0087632  -0.99989801 -0.01127747]\n",
            " [-0.01594788 -0.01113672  0.9998108 ]]\n"
          ],
          "name": "stdout"
        }
      ]
    },
    {
      "cell_type": "code",
      "metadata": {
        "id": "cMOYXwflXFh2",
        "colab_type": "code",
        "colab": {}
      },
      "source": [
        "# 카메라 내부 파라미터 매트릭스. \n",
        "mtx = np.array([[1.92288454e+03, 0.00000000e+00, 1.18954599e+03],\n",
        "               [0.00000000e+00, 1.92031141e+03, 9.45177448e+02],\n",
        "               [0.00000000e+00, 0.00000000e+00, 1.00000000e+00]])\n",
        "# 카메라 왜곡 계수. \n",
        "dist = np.array([[-0.27791696,  0.40290588,  0.01531431, -0.00324072, -0.38488884]])"
      ],
      "execution_count": null,
      "outputs": []
    },
    {
      "cell_type": "code",
      "metadata": {
        "id": "ukaQB1EydFtg",
        "colab_type": "code",
        "colab": {}
      },
      "source": [
        "# 프로젝터 내부 파라미터 매트릭스. \n",
        "mtx = np.array([[2.87597491e+03, 0.00000000e+00, 2.03138471e+03],\n",
        "               [0.00000000e+00, 2.87363389e+03, 1.20204078e+03],\n",
        "               [0.00000000e+00, 0.00000000e+00, 1.00000000e+00]])\n",
        "# 프로젝터 왜곡 계수. \n",
        "dist = np.array([[-1.23745111e-01, -8.26584913e-02,  7.51610155e-05,  8.28977054e-03,  4.43302944e-01]])"
      ],
      "execution_count": null,
      "outputs": []
    },
    {
      "cell_type": "code",
      "metadata": {
        "id": "AiL_TjbPWvXN",
        "colab_type": "code",
        "colab": {}
      },
      "source": [
        "#img = cv2.imread(\"/content/drive/My Drive/danbi-project/real_data_200605/capture_5/graycode_35.JPG\")\n",
        "img = cv2.imread(\"/content/drive/My Drive/_camera_1.jpg\")\n",
        "h, w = img.shape[:2]\n",
        "newcameraMtx, roi = cv2.getOptimalNewCameraMatrix(mtx, dist, (w,h), 1, (w,h))"
      ],
      "execution_count": null,
      "outputs": []
    },
    {
      "cell_type": "code",
      "metadata": {
        "id": "hV2DqyKqXnHh",
        "colab_type": "code",
        "colab": {
          "base_uri": "https://localhost:8080/",
          "height": 36
        },
        "outputId": "084b72bf-0437-4a8e-dfe7-d09c02ef78de"
      },
      "source": [
        "dst = cv2.undistort(img, mtx, dist, None, newcameraMtx)\n",
        "\n",
        "x,y,w,h = roi\n",
        "dst = dst[y:y+h, x:x+w]\n",
        "cv2.imwrite(\"projector_camera_1.jpg\", dst)"
      ],
      "execution_count": null,
      "outputs": [
        {
          "output_type": "execute_result",
          "data": {
            "text/plain": [
              "True"
            ]
          },
          "metadata": {
            "tags": []
          },
          "execution_count": 17
        }
      ]
    },
    {
      "cell_type": "code",
      "metadata": {
        "id": "_isP8op5Y_2x",
        "colab_type": "code",
        "colab": {}
      },
      "source": [
        "cp \"/content/projector_camera_1.jpg\" \"/content/drive/My Drive\""
      ],
      "execution_count": null,
      "outputs": []
    },
    {
      "cell_type": "markdown",
      "metadata": {
        "id": "GHIQ3O2Wh93B",
        "colab_type": "text"
      },
      "source": [
        "(1)\n",
        "\n",
        "Pc = Rwc * Pw + Twc\n",
        "\n",
        "POc = (0, 0, 0)일 때, \n",
        "\n",
        "POwc = -Rwc.T * Twc"
      ]
    },
    {
      "cell_type": "code",
      "metadata": {
        "id": "S2CWFJXjh9lX",
        "colab_type": "code",
        "colab": {
          "base_uri": "https://localhost:8080/",
          "height": 36
        },
        "outputId": "f0387df6-be54-42d7-9fd2-7042c4f6d38d"
      },
      "source": [
        "# 명칭 바꾸었음. POwc : 앞에 거(world) 원점 기준으로, 뒤에 거(camera) 원점 좌표를 구함. \n",
        "import numpy as np\n",
        "\n",
        "# 체스보드 코너점(left-top, world), 즉 월드 원점(world)을 기준으로 카메라(camera) 원점이 어디에 위치하는가. \n",
        "# Xw 방향으로 35cm, Yw 방향으로 133cm, Zw 방향으로 -153cm 이동한 지점에 카메라 원점이 위치함. \n",
        "POwc = np.matmul(-rvec_wc.T, tvec_wc)\n",
        "POwc"
      ],
      "execution_count": null,
      "outputs": [
        {
          "output_type": "execute_result",
          "data": {
            "text/plain": [
              "array([ 353.67829252,  808.83778627, -822.78898671])"
            ]
          },
          "metadata": {
            "tags": []
          },
          "execution_count": 22
        }
      ]
    },
    {
      "cell_type": "markdown",
      "metadata": {
        "id": "YQ5cuvpNebRZ",
        "colab_type": "text"
      },
      "source": [
        "(2) \n",
        "\n",
        "Pc = Rwc * Pw + Twc\n",
        "\n",
        "POw = (0, 0, 0)\n",
        "\n",
        "POcw = Twc\n",
        "\n",
        "(1), (2)와 동일한 방법으로 camera-projector, world-projector의 PO를 구하기. "
      ]
    },
    {
      "cell_type": "code",
      "metadata": {
        "id": "weF2lmOubJLH",
        "colab_type": "code",
        "colab": {
          "base_uri": "https://localhost:8080/",
          "height": 36
        },
        "outputId": "d5c8559f-714b-4688-8b94-573ff4884607"
      },
      "source": [
        "# 카메라 원점을 기준으로 월드 원점이 어디에 위치하는가.\n",
        "# Xc 방향으로 -32cm, Yc 방향으로 -58cm, Zc 방향으로 195cm 이동한 지점에 월드 원점이 위치함. \n",
        "\n",
        "POcw = tvec_wc # P0w = np.zeros([3, 1])\n",
        "POcw"
      ],
      "execution_count": null,
      "outputs": [
        {
          "output_type": "execute_result",
          "data": {
            "text/plain": [
              "array([-401.69137375, -305.18491107, 1096.26402925])"
            ]
          },
          "metadata": {
            "tags": []
          },
          "execution_count": 23
        }
      ]
    },
    {
      "cell_type": "code",
      "metadata": {
        "id": "MQ2dgvzvs3NL",
        "colab_type": "code",
        "colab": {
          "base_uri": "https://localhost:8080/",
          "height": 36
        },
        "outputId": "d9072d28-acaa-4346-84d4-34fd364d47fb"
      },
      "source": [
        "# 월드 원점을 기준으로 프로젝터 원점이 어디에 위치하는가.\n",
        "# Xw 방향으로 38cm, Yw 방향으로 14cm, Zw 방향으로 -217cm 이동한 지점에 프로젝터 원점이 위치함.  \n",
        "POwp = np.matmul(-rvec_wp.T, tvec_wp)\n",
        "POwp"
      ],
      "execution_count": null,
      "outputs": [
        {
          "output_type": "execute_result",
          "data": {
            "text/plain": [
              "array([  354.75116506,   184.02907291, -1886.0291518 ])"
            ]
          },
          "metadata": {
            "tags": []
          },
          "execution_count": 24
        }
      ]
    },
    {
      "cell_type": "code",
      "metadata": {
        "id": "beXvfL3ttCWF",
        "colab_type": "code",
        "colab": {
          "base_uri": "https://localhost:8080/",
          "height": 36
        },
        "outputId": "b251210a-0799-4ee6-b575-1b91dc0456c0"
      },
      "source": [
        "# 프로젝터 원점을 기준으로 월드 원점이 어디에 위치하는가.\n",
        "# Xp 방향으로 40cm, Yw 방향으로 12cm, Zp 방향으로 216cm 이동한 지점에 월드 원점이 위치함.  \n",
        "POpw = tvec_wp\n",
        "POpw"
      ],
      "execution_count": null,
      "outputs": [
        {
          "output_type": "execute_result",
          "data": {
            "text/plain": [
              "array([ 326.22694335,  159.83415869, 1893.37003383])"
            ]
          },
          "metadata": {
            "tags": []
          },
          "execution_count": 25
        }
      ]
    },
    {
      "cell_type": "code",
      "metadata": {
        "id": "Ded78NvszBLr",
        "colab_type": "code",
        "colab": {
          "base_uri": "https://localhost:8080/",
          "height": 36
        },
        "outputId": "fa5c1762-8823-42ca-8f23-c2cfeacb068e"
      },
      "source": [
        "# 카메라 원점을 기준으로 프로젝터 원점이 어디에 위치하는가. \n",
        "# Xc 방향으로 0.2cm, Yc 방향으로 -132cm, Zc 방향으로 -10cm 이동한 지점에 프로젝터 원점이 위치함. \n",
        "POcp = np.matmul(-rvec_cp.T, tvec_cp)\n",
        "POcp"
      ],
      "execution_count": null,
      "outputs": [
        {
          "output_type": "execute_result",
          "data": {
            "text/plain": [
              "array([  -33.99633814, -1043.2517952 ,  -652.24583164])"
            ]
          },
          "metadata": {
            "tags": []
          },
          "execution_count": 26
        }
      ]
    },
    {
      "cell_type": "code",
      "metadata": {
        "id": "DMa_xzjk1L0E",
        "colab_type": "code",
        "colab": {
          "base_uri": "https://localhost:8080/",
          "height": 36
        },
        "outputId": "b6bee304-9e33-43d7-bd92-1ab8c6b673e8"
      },
      "source": [
        "# 프로젝터 원점을 기준으로 카메라 원점이 어디에 위치하는가.\n",
        "# Xp 방향으로 3cm, Yp 방향으로 -118cm, Zp 방향으로 61cm 이동한 지점에 카메라 원점이 위치함.  \n",
        "POpc = tvec_cp\n",
        "POpc"
      ],
      "execution_count": null,
      "outputs": [
        {
          "output_type": "execute_result",
          "data": {
            "text/plain": [
              "array([ -14.64331615, -633.36927611, 1055.26471553])"
            ]
          },
          "metadata": {
            "tags": []
          },
          "execution_count": 27
        }
      ]
    },
    {
      "cell_type": "markdown",
      "metadata": {
        "id": "1Zd1cneXdvQG",
        "colab_type": "text"
      },
      "source": [
        ""
      ]
    },
    {
      "cell_type": "markdown",
      "metadata": {
        "id": "J3g5k2g6WnDZ",
        "colab_type": "text"
      },
      "source": [
        "(1) Pc = RwcPw + Twc\n",
        "\n",
        "(2) Pp = RcpPc + Tcp\n",
        "\n",
        "(3) : (1)의 Pc 식을 (2)에 대입함.\n",
        "\n",
        "Pp = (Rcp)(RwcPw + Twc) + Tcp\n",
        "\n",
        "Pp = (RcpRwc)Pw + RcpTwc + Tcp\n",
        "\n",
        "(4) : world-camera, camera-projector의 관계식을 연립하여 구한 (3)의 식이 world-projector의 관계식(Pp = RwpPw + Twp)과 일치하는지 확인함. \n",
        "\n",
        "즉, Rwp가 (RcpRwc)와 일치하는지, Twp가 (RcpTwc + Tcp)와 일치하는지 보려고 한 것임. \n"
      ]
    },
    {
      "cell_type": "code",
      "metadata": {
        "id": "LmumXAUEN0Eo",
        "colab_type": "code",
        "colab": {
          "base_uri": "https://localhost:8080/",
          "height": 241
        },
        "outputId": "41990a53-8494-49e3-8d05-0e99f636f556"
      },
      "source": [
        "# 명칭 유의. 연립을 통해 새로 구한 값은 대문자로 표시하였음\n",
        "\n",
        "rvec_WP = np.matmul(rvec_cp, rvec_wc)\n",
        "tvec_WP = np.matmul(rvec_cp, tvec_wc) + tvec_cp\n",
        "print(\"rvec_wp \\n\", rvec_wp) \n",
        "print(\"rvec_WP \\n\", rvec_WP)\n",
        "print(\"tvec_wp \\n\", tvec_wp)\n",
        "print(\"tvec_WP \\n\", tvec_WP)"
      ],
      "execution_count": null,
      "outputs": [
        {
          "output_type": "stream",
          "text": [
            "rvec_wp \n",
            " [[-0.99983442 -0.0087632  -0.01594788]\n",
            " [ 0.00894139 -0.99989801 -0.01113672]\n",
            " [-0.01584866 -0.01127747  0.9998108 ]]\n",
            "rvec_WP \n",
            " [[-0.99968554 -0.01010953 -0.02294797]\n",
            " [ 0.01046563 -0.99982586 -0.01545049]\n",
            " [-0.02278779 -0.0156858   0.99961726]]\n",
            "tvec_wp \n",
            " [ 326.22694335  159.83415869 1893.37003383]\n",
            "tvec_WP \n",
            " [ 328.21939857  158.91369974 1898.48559676]\n"
          ],
          "name": "stdout"
        }
      ]
    },
    {
      "cell_type": "markdown",
      "metadata": {
        "id": "7anjYz2KhFWp",
        "colab_type": "text"
      },
      "source": [
        "rvec_wp와 rvec_WP가 육안으로 보기에는 다소 차이가 있어 이들의 theta 값을 구하고자 하였음. (https://darkpgmr.tistory.com/99?category=460965 를 참고)"
      ]
    },
    {
      "cell_type": "code",
      "metadata": {
        "id": "Ow16_Z32Yvyp",
        "colab_type": "code",
        "colab": {
          "base_uri": "https://localhost:8080/",
          "height": 36
        },
        "outputId": "057ba3f9-c343-4613-8135-054af278a7f1"
      },
      "source": [
        "import math\n",
        "theta_wp = math.acos((np.trace(rvec_wp)-1)/2)\n",
        "theta_WP = math.acos((np.trace(rvec_WP)-1)/2)\n",
        "angle_wp = theta_wp*(180/3.14)\n",
        "angle_WP = theta_WP*(180/3.14)\n",
        "theta_wp, theta_WP, angle_wp, angle_WP"
      ],
      "execution_count": null,
      "outputs": [
        {
          "output_type": "execute_result",
          "data": {
            "text/plain": [
              "(3.136357191565369, 3.135510238586101, 179.79117658654982, 179.7426251418784)"
            ]
          },
          "metadata": {
            "tags": []
          },
          "execution_count": 10
        }
      ]
    },
    {
      "cell_type": "markdown",
      "metadata": {
        "id": "SZfdTZeBhV5a",
        "colab_type": "text"
      },
      "source": [
        "이들의 theta 값을 이용해 각각의 회전행렬, Rt_wp와 Rt_WP를 구하였음. "
      ]
    },
    {
      "cell_type": "code",
      "metadata": {
        "id": "nBN5dmSpcEdb",
        "colab_type": "code",
        "colab": {
          "base_uri": "https://localhost:8080/",
          "height": 167
        },
        "outputId": "3d944b48-66d5-4c23-bc11-5fcb43021b04"
      },
      "source": [
        "theta = theta_wp\n",
        "Rx_wp = np.array([[1, 0, 0],\n",
        "                  [0, math.cos(theta), -math.sin(theta)],\n",
        "                  [0, math.sin(theta), math.cos(theta)]])\n",
        "\n",
        "Ry_wp = np.array([[math.cos(theta), 0, math.sin(theta)],\n",
        "                  [0, 1, 0],\n",
        "                  [-math.sin(theta), 0, math.cos(theta)]])\n",
        "\n",
        "Rz_wp = np.array([[math.cos(theta), -math.sin(theta), 0],\n",
        "                  [math.sin(theta), math.cos(theta), 0],\n",
        "                  [0, 0, 1]])\n",
        "\n",
        "Rt_wp = np.matmul(Ry_wp, Rx_wp)\n",
        "Rt_wp = np.matmul(Rz_wp, Rt_wp)\n",
        "print(\"Rt_wp \\n\", Rt_wp)\n",
        "\n",
        "theta = theta_WP\n",
        "Rx_WP = np.array([[1, 0, 0],\n",
        "                  [0, math.cos(theta), -math.sin(theta)],\n",
        "                  [0, math.sin(theta), math.cos(theta)]])\n",
        "\n",
        "Ry_WP = np.array([[math.cos(theta), 0, math.sin(theta)],\n",
        "                  [0, 1, 0],\n",
        "                  [-math.sin(theta), 0, math.cos(theta)]])\n",
        "\n",
        "Rz_WP = np.array([[math.cos(theta), -math.sin(theta), 0],\n",
        "                  [math.sin(theta), math.cos(theta), 0],\n",
        "                  [0, 0, 1]])\n",
        "\n",
        "Rt_WP = np.matmul(Ry_WP, Rx_WP)\n",
        "Rt_WP = np.matmul(Rz_WP, Rt_WP)\n",
        "print(\"Rt_WP \\n\", Rt_WP)"
      ],
      "execution_count": null,
      "outputs": [
        {
          "output_type": "stream",
          "text": [
            "Rt_wp \n",
            " [[ 0.99997259  0.00520796  0.0052627 ]\n",
            " [-0.00523537  0.99997273  0.00520796]\n",
            " [-0.00523544 -0.00523537  0.99997259]]\n",
            "Rt_WP \n",
            " [[ 0.999963    0.00604527  0.00611915]\n",
            " [-0.00608226  0.99996323  0.00604527]\n",
            " [-0.00608238 -0.00608226  0.999963  ]]\n"
          ],
          "name": "stdout"
        }
      ]
    },
    {
      "cell_type": "code",
      "metadata": {
        "id": "gZjgT1UKQieb",
        "colab_type": "code",
        "colab": {
          "base_uri": "https://localhost:8080/",
          "height": 241
        },
        "outputId": "8ff569c1-c226-4211-8b00-25bdfafbfcbb"
      },
      "source": [
        "# rotation world to camera\n",
        "theta_wc = math.acos((np.trace(rvec_wc)-1)/2)\n",
        "theta = theta_wc\n",
        "\n",
        "Rx_wc = np.array([[1, 0, 0],\n",
        "                  [0, math.cos(theta), -math.sin(theta)],\n",
        "                  [0, math.sin(theta), math.cos(theta)]])\n",
        "\n",
        "Ry_wc = np.array([[math.cos(theta), 0, math.sin(theta)],\n",
        "                  [0, 1, 0],\n",
        "                  [-math.sin(theta), 0, math.cos(theta)]])\n",
        "\n",
        "Rz_wc = np.array([[math.cos(theta), -math.sin(theta), 0],\n",
        "                  [math.sin(theta), math.cos(theta), 0],\n",
        "                  [0, 0, 1]])\n",
        "\n",
        "Rt_wc = np.matmul(Ry_wc, Rx_wc)\n",
        "Rt_wc = np.matmul(Rz_wc, Rt_wc)\n",
        "print(\"angle_wc \\n\", theta_wc * (180/3.14))\n",
        "print(\"Rt_wc \\n\", Rt_wc)\n",
        "\n",
        "# rotation camera to projector\n",
        "theta_cp = math.acos((np.trace(rvec_cp)-1)/2)\n",
        "theta = theta_cp\n",
        "\n",
        "Rx_cp = np.array([[1, 0, 0],\n",
        "                  [0, math.cos(theta), -math.sin(theta)],\n",
        "                  [0, math.sin(theta), math.cos(theta)]])\n",
        "\n",
        "Ry_cp = np.array([[math.cos(theta), 0, math.sin(theta)],\n",
        "                  [0, 1, 0],\n",
        "                  [-math.sin(theta), 0, math.cos(theta)]])\n",
        "\n",
        "Rz_cp = np.array([[math.cos(theta), -math.sin(theta), 0],\n",
        "                  [math.sin(theta), math.cos(theta), 0],\n",
        "                  [0, 0, 1]])\n",
        "\n",
        "Rt_cp = np.matmul(Ry_cp, Rx_cp)\n",
        "Rt_cp = np.matmul(Rz_cp, Rt_cp)\n",
        "print(\"angle_cp \\n\", theta_cp * (180/3.14))\n",
        "print(\"Rt_cp \\n\", Rt_cp)"
      ],
      "execution_count": null,
      "outputs": [
        {
          "output_type": "stream",
          "text": [
            "angle_wc \n",
            " 24.163548645640567\n",
            "Rt_wc \n",
            " [[ 0.83259825 -0.2205854   0.50805731]\n",
            " [ 0.37333417  0.90109027 -0.2205854 ]\n",
            " [-0.40914759  0.37333417  0.83259825]]\n",
            "angle_cp \n",
            " 179.1532603541071\n",
            "Rt_cp \n",
            " [[ 0.99973226  0.01609293  0.01662619]\n",
            " [-0.01636064  0.99973664  0.01609293]\n",
            " [-0.01636283 -0.01636064  0.99973226]]\n"
          ],
          "name": "stdout"
        }
      ]
    },
    {
      "cell_type": "code",
      "metadata": {
        "id": "qFK-BngYgSWl",
        "colab_type": "code",
        "colab": {
          "base_uri": "https://localhost:8080/",
          "height": 185
        },
        "outputId": "cf429a02-81f5-4b03-c823-b68e125043b6"
      },
      "source": [
        "print(Rt_wp)\n",
        "print(Rt_WP) # theta_WP를 통해 구한 회전행렬. \n",
        "print(np.matmul(Rt_cp, Rt_wc)) # rvec_cp, rvec_wc 각각의 theta를 구해 회전행렬을 구하고, 이들을 곱하여 Rt_wp와 일치하는지 확인함. "
      ],
      "execution_count": null,
      "outputs": [
        {
          "output_type": "stream",
          "text": [
            "[[ 0.99997259  0.00520796  0.0052627 ]\n",
            " [-0.00523537  0.99997273  0.00520796]\n",
            " [-0.00523544 -0.00523537  0.99997259]]\n",
            "[[ 0.999963    0.00604527  0.00611915]\n",
            " [-0.00608226  0.99996323  0.00604527]\n",
            " [-0.00608238 -0.00608226  0.999963  ]]\n",
            "[[ 0.83158081 -0.19981803  0.51821435]\n",
            " [ 0.35302963  0.91046992 -0.2154405 ]\n",
            " [-0.42876969  0.3621012   0.82767099]]\n"
          ],
          "name": "stdout"
        }
      ]
    },
    {
      "cell_type": "code",
      "metadata": {
        "id": "gAa-5ZjetZnE",
        "colab_type": "code",
        "colab": {
          "base_uri": "https://localhost:8080/",
          "height": 92
        },
        "outputId": "f8ae3a15-937c-4ebb-b4bd-2cc27c50d70d"
      },
      "source": [
        "# http://egloos.zum.com/EireneHue/v/982268\n",
        "print(-math.asin(-0.4287))\n",
        "print(0.4430 * (180/3.14))\n",
        "print(-math.asin(-0.0052))\n",
        "print(0.0052 * (180/3.14)) \n"
      ],
      "execution_count": null,
      "outputs": [
        {
          "output_type": "stream",
          "text": [
            "0.4430533513718603\n",
            "25.394904458598724\n",
            "0.005200023434951824\n",
            "0.2980891719745223\n"
          ],
          "name": "stdout"
        }
      ]
    }
  ]
}